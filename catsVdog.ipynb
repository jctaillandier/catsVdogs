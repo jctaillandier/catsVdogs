{
 "cells": [
  {
   "cell_type": "markdown",
   "metadata": {
    "colab_type": "text",
    "id": "ccBMUxSDNEwX"
   },
   "source": [
    "### Initial Imports "
   ]
  },
  {
   "cell_type": "code",
   "execution_count": 11,
   "metadata": {
    "colab": {
     "base_uri": "https://localhost:8080/",
     "height": 90
    },
    "colab_type": "code",
    "id": "a1N6fglBNEwY",
    "outputId": "e15cf17a-8c57-43e9-c2bb-0ffeafcbd7ee"
   },
   "outputs": [
    {
     "name": "stdout",
     "output_type": "stream",
     "text": [
      "Populating the interactive namespace from numpy and matplotlib\n"
     ]
    }
   ],
   "source": [
    "import math\n",
    "import numpy as np\n",
    "import pandas as pd\n",
    "import matplotlib.pyplot as plt\n",
    "%pylab inline\n",
    "import os\n",
    "import time\n",
    "from sklearn import preprocessing\n",
    "from numpy import array\n",
    "from numpy import argmax\n",
    "from sklearn.preprocessing import LabelEncoder\n",
    "from sklearn.preprocessing import OneHotEncoder\n",
    "from sklearn import preprocessing\n",
    "from os.path import exists\n",
    "  \n"
   ]
  },
  {
   "cell_type": "code",
   "execution_count": 16,
   "metadata": {
    "colab": {
     "base_uri": "https://localhost:8080/",
     "height": 195
    },
    "colab_type": "code",
    "id": "gGFR01YiDJTN",
    "outputId": "b88bf574-fef7-41fd-cb43-bc717e4ba134"
   },
   "outputs": [
    {
     "ename": "ModuleNotFoundError",
     "evalue": "No module named 'PIL'",
     "output_type": "error",
     "traceback": [
      "\u001b[1;31m---------------------------------------------------------------------------\u001b[0m",
      "\u001b[1;31mModuleNotFoundError\u001b[0m                       Traceback (most recent call last)",
      "\u001b[1;32m<ipython-input-16-b7f01c2f8cfe>\u001b[0m in \u001b[0;36m<module>\u001b[1;34m()\u001b[0m\n\u001b[1;32m----> 1\u001b[1;33m \u001b[1;32mfrom\u001b[0m \u001b[0mPIL\u001b[0m \u001b[1;32mimport\u001b[0m \u001b[0mImage\u001b[0m\u001b[1;33m\u001b[0m\u001b[0m\n\u001b[0m",
      "\u001b[1;31mModuleNotFoundError\u001b[0m: No module named 'PIL'"
     ]
    }
   ],
   "source": [
    "from PIL import Image"
   ]
  },
  {
   "cell_type": "code",
   "execution_count": null,
   "metadata": {
    "colab": {
     "base_uri": "https://localhost:8080/",
     "height": 126
    },
    "colab_type": "code",
    "id": "5LyOKtbhNEwd",
    "outputId": "330a7490-f831-4452-cbbe-df8ed4ad30d5"
   },
   "outputs": [],
   "source": [
    "#from google.colab import drive\n",
    "#drive.mount('/content/drive')"
   ]
  },
  {
   "cell_type": "code",
   "execution_count": null,
   "metadata": {
    "colab": {},
    "colab_type": "code",
    "id": "FSFjNdVct6au"
   },
   "outputs": [],
   "source": []
  },
  {
   "cell_type": "code",
   "execution_count": 8,
   "metadata": {
    "colab": {
     "base_uri": "https://localhost:8080/",
     "height": 72
    },
    "colab_type": "code",
    "id": "jjCy_aY7NEwn",
    "outputId": "de727c3a-a83f-4f30-d5dd-0968be16d2be"
   },
   "outputs": [
    {
     "name": "stderr",
     "output_type": "stream",
     "text": [
      "C:\\Users\\Public\\Anaconda3\\lib\\site-packages\\wheel\\pep425tags.py:75: RuntimeWarning: Config variable 'Py_DEBUG' is unset, Python ABI tag may be incorrect\n",
      "  warn=(impl == 'cp')):\n",
      "C:\\Users\\Public\\Anaconda3\\lib\\site-packages\\wheel\\pep425tags.py:79: RuntimeWarning: Config variable 'WITH_PYMALLOC' is unset, Python ABI tag may be incorrect\n",
      "  warn=(impl == 'cp')):\n",
      "torch-0.4.1-cp37-cp37m-linux_x86_64.whl is not a supported wheel on this platform.\n",
      "You are using pip version 18.1, however version 19.0.1 is available.\n",
      "You should consider upgrading via the 'python -m pip install --upgrade pip' command.\n"
     ]
    }
   ],
   "source": [
    "# http://pytorch.org/\n",
    "from os.path import exists\n",
    "from wheel.pep425tags import get_abbr_impl, get_impl_ver, get_abi_tag\n",
    "platform = '{}{}-{}'.format(get_abbr_impl(), get_impl_ver(), get_abi_tag())\n",
    "cuda_output = !ldconfig -p|grep cudart.so|sed -e 's/.*\\.\\([0-9]*\\)\\.\\([0-9]*\\)$/cu\\1\\2/'\n",
    "accelerator = cuda_output[0] if exists('/dev/nvidia0') else 'cpu'\n",
    "\n",
    "!pip install -q http://download.pytorch.org/whl/{accelerator}/torch-0.4.1-{platform}-linux_x86_64.whl torchvision\n",
    "import torch\n",
    "# http://pytorch.org/\n",
    "from wheel.pep425tags import get_abbr_impl, get_impl_ver, get_abi_tag\n",
    "platform = '{}{}-{}'.format(get_abbr_impl(), get_impl_ver(), get_abi_tag())\n",
    "cuda_output = !ldconfig -p|grep cudart.so|sed -e 's/.*\\.\\([0-9]*\\)\\.\\([0-9]*\\)$/cu\\1\\2/'\n",
    "accelerator = cuda_output[0] if exists('/dev/nvidia0') else 'cpu'\n",
    "\n"
   ]
  },
  {
   "cell_type": "code",
   "execution_count": 10,
   "metadata": {
    "colab": {},
    "colab_type": "code",
    "id": "0V4CAE8qhiag"
   },
   "outputs": [
    {
     "ename": "ModuleNotFoundError",
     "evalue": "No module named 'PIL'",
     "output_type": "error",
     "traceback": [
      "\u001b[1;31m---------------------------------------------------------------------------\u001b[0m",
      "\u001b[1;31mModuleNotFoundError\u001b[0m                       Traceback (most recent call last)",
      "\u001b[1;32m<ipython-input-10-e82b48faf0b7>\u001b[0m in \u001b[0;36m<module>\u001b[1;34m()\u001b[0m\n\u001b[0;32m      3\u001b[0m \u001b[1;32mimport\u001b[0m \u001b[0mtorch\u001b[0m\u001b[1;33m.\u001b[0m\u001b[0mnn\u001b[0m\u001b[1;33m.\u001b[0m\u001b[0mfunctional\u001b[0m \u001b[1;32mas\u001b[0m \u001b[0mF\u001b[0m\u001b[1;33m\u001b[0m\u001b[0m\n\u001b[0;32m      4\u001b[0m \u001b[1;32mimport\u001b[0m \u001b[0mtorch\u001b[0m\u001b[1;33m.\u001b[0m\u001b[0moptim\u001b[0m \u001b[1;32mas\u001b[0m \u001b[0moptim\u001b[0m\u001b[1;33m\u001b[0m\u001b[0m\n\u001b[1;32m----> 5\u001b[1;33m \u001b[1;32mfrom\u001b[0m \u001b[0mtorchvision\u001b[0m \u001b[1;32mimport\u001b[0m \u001b[0mdatasets\u001b[0m\u001b[1;33m,\u001b[0m \u001b[0mtransforms\u001b[0m\u001b[1;33m\u001b[0m\u001b[0m\n\u001b[0m\u001b[0;32m      6\u001b[0m \u001b[1;32mfrom\u001b[0m \u001b[0mtorch\u001b[0m\u001b[1;33m.\u001b[0m\u001b[0mutils\u001b[0m\u001b[1;33m.\u001b[0m\u001b[0mdata\u001b[0m \u001b[1;32mimport\u001b[0m \u001b[0mDataLoader\u001b[0m\u001b[1;33m\u001b[0m\u001b[0m\n\u001b[0;32m      7\u001b[0m \u001b[1;32mimport\u001b[0m \u001b[0mpickle\u001b[0m\u001b[1;33m\u001b[0m\u001b[0m\n",
      "\u001b[1;32mC:\\Users\\Public\\Anaconda3\\lib\\site-packages\\torchvision\\__init__.py\u001b[0m in \u001b[0;36m<module>\u001b[1;34m()\u001b[0m\n\u001b[0;32m      1\u001b[0m \u001b[1;32mfrom\u001b[0m \u001b[0mtorchvision\u001b[0m \u001b[1;32mimport\u001b[0m \u001b[0mmodels\u001b[0m\u001b[1;33m\u001b[0m\u001b[0m\n\u001b[1;32m----> 2\u001b[1;33m \u001b[1;32mfrom\u001b[0m \u001b[0mtorchvision\u001b[0m \u001b[1;32mimport\u001b[0m \u001b[0mdatasets\u001b[0m\u001b[1;33m\u001b[0m\u001b[0m\n\u001b[0m\u001b[0;32m      3\u001b[0m \u001b[1;32mfrom\u001b[0m \u001b[0mtorchvision\u001b[0m \u001b[1;32mimport\u001b[0m \u001b[0mtransforms\u001b[0m\u001b[1;33m\u001b[0m\u001b[0m\n\u001b[0;32m      4\u001b[0m \u001b[1;32mfrom\u001b[0m \u001b[0mtorchvision\u001b[0m \u001b[1;32mimport\u001b[0m \u001b[0mutils\u001b[0m\u001b[1;33m\u001b[0m\u001b[0m\n\u001b[0;32m      5\u001b[0m \u001b[1;33m\u001b[0m\u001b[0m\n",
      "\u001b[1;32mC:\\Users\\Public\\Anaconda3\\lib\\site-packages\\torchvision\\datasets\\__init__.py\u001b[0m in \u001b[0;36m<module>\u001b[1;34m()\u001b[0m\n\u001b[1;32m----> 1\u001b[1;33m \u001b[1;32mfrom\u001b[0m \u001b[1;33m.\u001b[0m\u001b[0mlsun\u001b[0m \u001b[1;32mimport\u001b[0m \u001b[0mLSUN\u001b[0m\u001b[1;33m,\u001b[0m \u001b[0mLSUNClass\u001b[0m\u001b[1;33m\u001b[0m\u001b[0m\n\u001b[0m\u001b[0;32m      2\u001b[0m \u001b[1;32mfrom\u001b[0m \u001b[1;33m.\u001b[0m\u001b[0mfolder\u001b[0m \u001b[1;32mimport\u001b[0m \u001b[0mImageFolder\u001b[0m\u001b[1;33m,\u001b[0m \u001b[0mDatasetFolder\u001b[0m\u001b[1;33m\u001b[0m\u001b[0m\n\u001b[0;32m      3\u001b[0m \u001b[1;32mfrom\u001b[0m \u001b[1;33m.\u001b[0m\u001b[0mcoco\u001b[0m \u001b[1;32mimport\u001b[0m \u001b[0mCocoCaptions\u001b[0m\u001b[1;33m,\u001b[0m \u001b[0mCocoDetection\u001b[0m\u001b[1;33m\u001b[0m\u001b[0m\n\u001b[0;32m      4\u001b[0m \u001b[1;32mfrom\u001b[0m \u001b[1;33m.\u001b[0m\u001b[0mcifar\u001b[0m \u001b[1;32mimport\u001b[0m \u001b[0mCIFAR10\u001b[0m\u001b[1;33m,\u001b[0m \u001b[0mCIFAR100\u001b[0m\u001b[1;33m\u001b[0m\u001b[0m\n\u001b[0;32m      5\u001b[0m \u001b[1;32mfrom\u001b[0m \u001b[1;33m.\u001b[0m\u001b[0mstl10\u001b[0m \u001b[1;32mimport\u001b[0m \u001b[0mSTL10\u001b[0m\u001b[1;33m\u001b[0m\u001b[0m\n",
      "\u001b[1;32mC:\\Users\\Public\\Anaconda3\\lib\\site-packages\\torchvision\\datasets\\lsun.py\u001b[0m in \u001b[0;36m<module>\u001b[1;34m()\u001b[0m\n\u001b[0;32m      1\u001b[0m \u001b[1;32mimport\u001b[0m \u001b[0mtorch\u001b[0m\u001b[1;33m.\u001b[0m\u001b[0mutils\u001b[0m\u001b[1;33m.\u001b[0m\u001b[0mdata\u001b[0m \u001b[1;32mas\u001b[0m \u001b[0mdata\u001b[0m\u001b[1;33m\u001b[0m\u001b[0m\n\u001b[1;32m----> 2\u001b[1;33m \u001b[1;32mfrom\u001b[0m \u001b[0mPIL\u001b[0m \u001b[1;32mimport\u001b[0m \u001b[0mImage\u001b[0m\u001b[1;33m\u001b[0m\u001b[0m\n\u001b[0m\u001b[0;32m      3\u001b[0m \u001b[1;32mimport\u001b[0m \u001b[0mos\u001b[0m\u001b[1;33m\u001b[0m\u001b[0m\n\u001b[0;32m      4\u001b[0m \u001b[1;32mimport\u001b[0m \u001b[0mos\u001b[0m\u001b[1;33m.\u001b[0m\u001b[0mpath\u001b[0m\u001b[1;33m\u001b[0m\u001b[0m\n\u001b[0;32m      5\u001b[0m \u001b[1;32mimport\u001b[0m \u001b[0msix\u001b[0m\u001b[1;33m\u001b[0m\u001b[0m\n",
      "\u001b[1;31mModuleNotFoundError\u001b[0m: No module named 'PIL'"
     ]
    }
   ],
   "source": [
    "\n",
    "import torch.nn as nn\n",
    "import torch.nn.functional as F\n",
    "import torch.optim as optim\n",
    "from torchvision import datasets, transforms\n",
    "from torch.utils.data import DataLoader\n",
    "import pickle\n",
    "from torch.utils.data.sampler import (SubsetRandomSampler,\n",
    "                                      RandomSampler)\n",
    "from torchvision import datasets, transforms"
   ]
  },
  {
   "cell_type": "code",
   "execution_count": null,
   "metadata": {
    "colab": {
     "base_uri": "https://localhost:8080/",
     "height": 35
    },
    "colab_type": "code",
    "id": "8zZfuu9pNEwt",
    "outputId": "0e36c26d-3b37-43fc-ff37-921537f30069"
   },
   "outputs": [],
   "source": [
    "# If a GPU is available, use it\n",
    "# Pytorch uses an elegant way to keep the code device agnostic\n",
    "if torch.cuda.is_available():\n",
    "    device = torch.device(\"cuda\")\n",
    "    use_cuda = True\n",
    "else:\n",
    "    device = torch.device(\"cpu\")\n",
    "    use_cuda = False\n",
    "    \n",
    "print(device)"
   ]
  },
  {
   "cell_type": "markdown",
   "metadata": {
    "colab_type": "text",
    "id": "B3szDszS9ELn"
   },
   "source": [
    "### Import data and re-organized for PyTorch data loader"
   ]
  },
  {
   "cell_type": "code",
   "execution_count": 0,
   "metadata": {
    "colab": {
     "base_uri": "https://localhost:8080/",
     "height": 614
    },
    "colab_type": "code",
    "id": "7quXL1aQ6n37",
    "outputId": "e1f5a146-cdf5-4950-b0ca-40cc2b74a73a"
   },
   "outputs": [
    {
     "ename": "IsADirectoryError",
     "evalue": "ignored",
     "output_type": "error",
     "traceback": [
      "\u001b[0;31m---------------------------------------------------------------------------\u001b[0m",
      "\u001b[0;31mIsADirectoryError\u001b[0m                         Traceback (most recent call last)",
      "\u001b[0;32m<ipython-input-26-1a5d94b87149>\u001b[0m in \u001b[0;36m<module>\u001b[0;34m()\u001b[0m\n\u001b[1;32m      1\u001b[0m \u001b[0mpath_to_data\u001b[0m \u001b[0;34m=\u001b[0m \u001b[0;34m'drive/My Drive/DL-assignment1'\u001b[0m\u001b[0;34m\u001b[0m\u001b[0;34m\u001b[0m\u001b[0m\n\u001b[1;32m      2\u001b[0m \u001b[0;34m\u001b[0m\u001b[0m\n\u001b[0;32m----> 3\u001b[0;31m \u001b[0mfull_images\u001b[0m \u001b[0;34m=\u001b[0m \u001b[0mnp\u001b[0m\u001b[0;34m.\u001b[0m\u001b[0mgenfromtxt\u001b[0m\u001b[0;34m(\u001b[0m\u001b[0mpath_to_data\u001b[0m\u001b[0;34m)\u001b[0m\u001b[0;34m\u001b[0m\u001b[0;34m\u001b[0m\u001b[0m\n\u001b[0m\u001b[1;32m      4\u001b[0m \u001b[0mnp\u001b[0m\u001b[0;34m.\u001b[0m\u001b[0mrandom\u001b[0m\u001b[0;34m.\u001b[0m\u001b[0mshuffle\u001b[0m\u001b[0;34m(\u001b[0m\u001b[0mfull_images\u001b[0m\u001b[0;34m)\u001b[0m\u001b[0;34m\u001b[0m\u001b[0;34m\u001b[0m\u001b[0m\n",
      "\u001b[0;32m/usr/local/lib/python3.6/dist-packages/numpy/lib/npyio.py\u001b[0m in \u001b[0;36mgenfromtxt\u001b[0;34m(fname, dtype, comments, delimiter, skip_header, skip_footer, converters, missing_values, filling_values, usecols, names, excludelist, deletechars, replace_space, autostrip, case_sensitive, defaultfmt, unpack, usemask, loose, invalid_raise, max_rows, encoding)\u001b[0m\n\u001b[1;32m   1687\u001b[0m             \u001b[0mfname\u001b[0m \u001b[0;34m=\u001b[0m \u001b[0mstr\u001b[0m\u001b[0;34m(\u001b[0m\u001b[0mfname\u001b[0m\u001b[0;34m)\u001b[0m\u001b[0;34m\u001b[0m\u001b[0;34m\u001b[0m\u001b[0m\n\u001b[1;32m   1688\u001b[0m         \u001b[0;32mif\u001b[0m \u001b[0misinstance\u001b[0m\u001b[0;34m(\u001b[0m\u001b[0mfname\u001b[0m\u001b[0;34m,\u001b[0m \u001b[0mbasestring\u001b[0m\u001b[0;34m)\u001b[0m\u001b[0;34m:\u001b[0m\u001b[0;34m\u001b[0m\u001b[0;34m\u001b[0m\u001b[0m\n\u001b[0;32m-> 1689\u001b[0;31m             \u001b[0mfhd\u001b[0m \u001b[0;34m=\u001b[0m \u001b[0miter\u001b[0m\u001b[0;34m(\u001b[0m\u001b[0mnp\u001b[0m\u001b[0;34m.\u001b[0m\u001b[0mlib\u001b[0m\u001b[0;34m.\u001b[0m\u001b[0m_datasource\u001b[0m\u001b[0;34m.\u001b[0m\u001b[0mopen\u001b[0m\u001b[0;34m(\u001b[0m\u001b[0mfname\u001b[0m\u001b[0;34m,\u001b[0m \u001b[0;34m'rt'\u001b[0m\u001b[0;34m,\u001b[0m \u001b[0mencoding\u001b[0m\u001b[0;34m=\u001b[0m\u001b[0mencoding\u001b[0m\u001b[0;34m)\u001b[0m\u001b[0;34m)\u001b[0m\u001b[0;34m\u001b[0m\u001b[0;34m\u001b[0m\u001b[0m\n\u001b[0m\u001b[1;32m   1690\u001b[0m             \u001b[0mown_fhd\u001b[0m \u001b[0;34m=\u001b[0m \u001b[0;32mTrue\u001b[0m\u001b[0;34m\u001b[0m\u001b[0;34m\u001b[0m\u001b[0m\n\u001b[1;32m   1691\u001b[0m         \u001b[0;32melse\u001b[0m\u001b[0;34m:\u001b[0m\u001b[0;34m\u001b[0m\u001b[0;34m\u001b[0m\u001b[0m\n",
      "\u001b[0;32m/usr/local/lib/python3.6/dist-packages/numpy/lib/_datasource.py\u001b[0m in \u001b[0;36mopen\u001b[0;34m(path, mode, destpath, encoding, newline)\u001b[0m\n\u001b[1;32m    258\u001b[0m \u001b[0;34m\u001b[0m\u001b[0m\n\u001b[1;32m    259\u001b[0m     \u001b[0mds\u001b[0m \u001b[0;34m=\u001b[0m \u001b[0mDataSource\u001b[0m\u001b[0;34m(\u001b[0m\u001b[0mdestpath\u001b[0m\u001b[0;34m)\u001b[0m\u001b[0;34m\u001b[0m\u001b[0;34m\u001b[0m\u001b[0m\n\u001b[0;32m--> 260\u001b[0;31m     \u001b[0;32mreturn\u001b[0m \u001b[0mds\u001b[0m\u001b[0;34m.\u001b[0m\u001b[0mopen\u001b[0m\u001b[0;34m(\u001b[0m\u001b[0mpath\u001b[0m\u001b[0;34m,\u001b[0m \u001b[0mmode\u001b[0m\u001b[0;34m,\u001b[0m \u001b[0mencoding\u001b[0m\u001b[0;34m=\u001b[0m\u001b[0mencoding\u001b[0m\u001b[0;34m,\u001b[0m \u001b[0mnewline\u001b[0m\u001b[0;34m=\u001b[0m\u001b[0mnewline\u001b[0m\u001b[0;34m)\u001b[0m\u001b[0;34m\u001b[0m\u001b[0;34m\u001b[0m\u001b[0m\n\u001b[0m\u001b[1;32m    261\u001b[0m \u001b[0;34m\u001b[0m\u001b[0m\n\u001b[1;32m    262\u001b[0m \u001b[0;34m\u001b[0m\u001b[0m\n",
      "\u001b[0;32m/usr/local/lib/python3.6/dist-packages/numpy/lib/_datasource.py\u001b[0m in \u001b[0;36mopen\u001b[0;34m(self, path, mode, encoding, newline)\u001b[0m\n\u001b[1;32m    612\u001b[0m                 \u001b[0mmode\u001b[0m\u001b[0;34m.\u001b[0m\u001b[0mreplace\u001b[0m\u001b[0;34m(\u001b[0m\u001b[0;34m\"+\"\u001b[0m\u001b[0;34m,\u001b[0m \u001b[0;34m\"\"\u001b[0m\u001b[0;34m)\u001b[0m\u001b[0;34m\u001b[0m\u001b[0;34m\u001b[0m\u001b[0m\n\u001b[1;32m    613\u001b[0m             return _file_openers[ext](found, mode=mode,\n\u001b[0;32m--> 614\u001b[0;31m                                       encoding=encoding, newline=newline)\n\u001b[0m\u001b[1;32m    615\u001b[0m         \u001b[0;32melse\u001b[0m\u001b[0;34m:\u001b[0m\u001b[0;34m\u001b[0m\u001b[0;34m\u001b[0m\u001b[0m\n\u001b[1;32m    616\u001b[0m             \u001b[0;32mraise\u001b[0m \u001b[0mIOError\u001b[0m\u001b[0;34m(\u001b[0m\u001b[0;34m\"%s not found.\"\u001b[0m \u001b[0;34m%\u001b[0m \u001b[0mpath\u001b[0m\u001b[0;34m)\u001b[0m\u001b[0;34m\u001b[0m\u001b[0;34m\u001b[0m\u001b[0m\n",
      "\u001b[0;31mIsADirectoryError\u001b[0m: [Errno 21] Is a directory: 'drive/My Drive/DL-assignment1'"
     ]
    }
   ],
   "source": [
    "path_to_data = 'drive/My Drive/DL-assignment1'\n",
    "\n",
    "full_images = np.genfromtxt(path_to_data)\n",
    "np.random.shuffle(full_images)"
   ]
  },
  {
   "cell_type": "code",
   "execution_count": 0,
   "metadata": {
    "colab": {},
    "colab_type": "code",
    "id": "W832cvIr7LxL"
   },
   "outputs": [],
   "source": [
    "full_inputs = full_images[:,:-1]\n",
    "full_labels = full_images[:, -1]"
   ]
  },
  {
   "cell_type": "code",
   "execution_count": 0,
   "metadata": {
    "colab": {},
    "colab_type": "code",
    "id": "dM4xamLsROBK"
   },
   "outputs": [],
   "source": [
    "directory = os.path.dirname('./data_ds/')\n",
    "\n",
    "try:\n",
    "    os.stat(directory)\n",
    "except:\n",
    "    os.mkdir(directory)  "
   ]
  },
  {
   "cell_type": "code",
   "execution_count": 0,
   "metadata": {
    "colab": {},
    "colab_type": "code",
    "id": "ygio7UcCROEI"
   },
   "outputs": [],
   "source": [
    "# Delete all data in folder \n",
    "import os, shutil\n",
    "folder = './data_ds/'\n",
    "for the_file in os.listdir(folder):\n",
    "    file_path = os.path.join(folder, the_file)\n",
    "    try:\n",
    "        if os.path.isfile(file_path):\n",
    "            os.unlink(file_path)\n",
    "        elif os.path.isdir(file_path): shutil.rmtree(file_path)\n",
    "    except Exception as e:\n",
    "        print(e)\n",
    "\n",
    "!ls \"./data_ds/\""
   ]
  },
  {
   "cell_type": "code",
   "execution_count": 0,
   "metadata": {
    "colab": {},
    "colab_type": "code",
    "id": "jGPIn2mvROGy"
   },
   "outputs": [],
   "source": [
    "##############################################################################3\n",
    "###################### NPY FILES ####################\n",
    "\n",
    "## Empty directory\n",
    "full_dataset = np.asarray(full_inputs).astype(np.float32)\n",
    "z=0\n",
    "\n",
    "# load data for dataloader\n",
    "start = time.time()\n",
    "for x in range(full_dataset.shape[0]):\n",
    "    for y in range(2):\n",
    "        if full_labels[x] == y: \n",
    "            temp = (full_dataset[x,:].reshape(1,28,28))\n",
    "            \n",
    "            directory = './data_ds/' + str(y)\n",
    "            if not os.path.exists(directory):\n",
    "                os.makedirs(directory)\n",
    "            \n",
    "            \n",
    "            np.save((directory+ '/' +str(z) +'.npy'), temp)\n",
    "            \n",
    "            z += 1\n",
    "    \n",
    "end = time.time()\n",
    "\n",
    "print('Time to process: ', end-start)\n",
    "print(z, ' datapoints saved to path')"
   ]
  },
  {
   "cell_type": "markdown",
   "metadata": {
    "colab_type": "text",
    "id": "lazfvtuUtuG2"
   },
   "source": [
    "### From .jpg to .npy"
   ]
  },
  {
   "cell_type": "code",
   "execution_count": 0,
   "metadata": {
    "colab": {},
    "colab_type": "code",
    "id": "yZHQ5RaHyChP"
   },
   "outputs": [],
   "source": [
    "\n",
    "!pip install Pillow==4.0.0\n",
    "!pip install PIL\n",
    "!pip install image\n",
    "import PIL.Image"
   ]
  },
  {
   "cell_type": "code",
   "execution_count": 0,
   "metadata": {
    "colab": {},
    "colab_type": "code",
    "id": "XYu2X8-gtxZl"
   },
   "outputs": [],
   "source": [
    "\n",
    "\n",
    "directory = os.path.dirname('drive/My Drive/DL-assignment1/tensor_data/Dog/')\n",
    "\n",
    "try:\n",
    "    os.stat(directory)\n",
    "    print('it exists')\n",
    "except:\n",
    "    os.mkdir(directory)  "
   ]
  },
  {
   "cell_type": "code",
   "execution_count": 0,
   "metadata": {
    "colab": {},
    "colab_type": "code",
    "id": "SNrDX07BtxXv"
   },
   "outputs": [],
   "source": [
    "cat_path = 'drive/My Drive/DL-assignment1/trainset/Cat/'\n",
    "\n",
    "start = time.time()\n",
    "count=0\n",
    "\n",
    "for y in range(9999):\n",
    "\n",
    "  filename = cat_path+ str(y+1) +'.Cat'\n",
    "  img = Image.open( filename + '.jpg' )\n",
    "  data = np.array( img, dtype='uint8' )\n",
    "  if len(data.shape )== 3:\n",
    "    data = np.reshape(data, (3,64,64))\n",
    "    np.save( 'drive/My Drive/DL-assignment1/tensor_data/Cat/'+str(y+1) , torch.as_tensor(data, dtype=torch.float))\n",
    "    count= count+1\n",
    "    if(count%1000) == 0:\n",
    "      print(count, ' transformed. Time since start: ', time.time()-start)\n",
    "end = time.time()\n",
    "\n",
    "print('Time to transform cat files from jpg to npy: ', end-start)\n",
    "print(count, ' files transformed')"
   ]
  },
  {
   "cell_type": "code",
   "execution_count": 0,
   "metadata": {
    "colab": {
     "base_uri": "https://localhost:8080/",
     "height": 52
    },
    "colab_type": "code",
    "id": "-8zU8Pu25_zM",
    "outputId": "468188e3-7402-4a86-c361-3bae827a9d3b"
   },
   "outputs": [
    {
     "name": "stdout",
     "output_type": "stream",
     "text": [
      "3\n",
      "(64, 64, 3)\n"
     ]
    }
   ],
   "source": [
    "z = Image.open('drive/My Drive/DL-assignment1/trainset/Cat/1000.Cat.jpg')\n",
    "data = np.array(z, dtype='uint8')\n",
    "print(len(data.shape))\n",
    "\n",
    "print(data.shape)\n",
    "#print(np.all(data,axis=3))\n",
    "#if(data[])"
   ]
  },
  {
   "cell_type": "code",
   "execution_count": 0,
   "metadata": {
    "colab": {
     "base_uri": "https://localhost:8080/",
     "height": 212
    },
    "colab_type": "code",
    "id": "RA-vKMEutxVq",
    "outputId": "c8f231ef-a3b9-47ad-c918-92a2dac135f9"
   },
   "outputs": [
    {
     "name": "stdout",
     "output_type": "stream",
     "text": [
      "1000  transformed. Time since start:  624.7372686862946\n",
      "2000  transformed. Time since start:  1227.4554409980774\n",
      "3000  transformed. Time since start:  1810.4254846572876\n",
      "4000  transformed. Time since start:  2404.1375551223755\n",
      "5000  transformed. Time since start:  2985.825596809387\n",
      "6000  transformed. Time since start:  3590.326904773712\n",
      "7000  transformed. Time since start:  4189.921615123749\n",
      "8000  transformed. Time since start:  4778.774834871292\n",
      "9000  transformed. Time since start:  5355.403125286102\n",
      "Time to transform Dog files from jpg to npy:  5940.622883319855\n",
      "9986  files transformed\n"
     ]
    }
   ],
   "source": [
    "dog_path = 'drive/My Drive/DL-assignment1/trainset/Dog/'\n",
    "\n",
    "start = time.time()\n",
    "count=0\n",
    "\n",
    "for y in range(9999):\n",
    "\n",
    "  filename = dog_path+ str(1+y) +'.Dog'\n",
    "  img = Image.open( filename + '.jpg' )\n",
    "  data = np.array( img, dtype='uint8' )\n",
    "  if len(data.shape) == 3:\n",
    "    data = np.reshape(data, (3,64,64))\n",
    "    np.save( 'drive/My Drive/DL-assignment1/tensor_data/Dog/'+str(y+1) , torch.as_tensor(data, dtype=torch.float))\n",
    "    count= count+1\n",
    "    if(count%1000) == 0:\n",
    "      print(count, ' transformed. Time since start: ', time.time()-start)\n",
    "\n",
    "end = time.time()\n",
    "\n",
    "print('Time to transform Dog files from jpg to npy: ', end-start)\n",
    "print(count, ' files transformed')"
   ]
  },
  {
   "cell_type": "markdown",
   "metadata": {
    "colab_type": "text",
    "id": "hBU_aqvaZbAw"
   },
   "source": [
    "<hr>\n",
    "9989 Cats files<br>\n",
    "9986 Dog files"
   ]
  },
  {
   "cell_type": "code",
   "execution_count": 0,
   "metadata": {
    "colab": {
     "base_uri": "https://localhost:8080/",
     "height": 35
    },
    "colab_type": "code",
    "id": "UWY3mcYmiyfk",
    "outputId": "b26978b3-777c-4a40-e4ed-da49f3b9c945"
   },
   "outputs": [
    {
     "name": "stdout",
     "output_type": "stream",
     "text": [
      "(3, 64, 64)\n"
     ]
    }
   ],
   "source": [
    "x = np.load('drive/My Drive/DL-assignment1/tensor_data/Cat/1111.npy')\n",
    "\n",
    "print(x.shape)\n",
    "\n",
    "#plt.imshow(x)\n",
    "\n",
    "#y = np.reshape(x, (3,64,64))\n",
    "\n",
    "#y.shape"
   ]
  },
  {
   "cell_type": "markdown",
   "metadata": {
    "colab_type": "text",
    "id": "Lrd1tvIHQBsb"
   },
   "source": [
    "#### Other stuff"
   ]
  },
  {
   "cell_type": "code",
   "execution_count": 0,
   "metadata": {
    "colab": {},
    "colab_type": "code",
    "id": "OA5xNMh6QEsW"
   },
   "outputs": [],
   "source": [
    "directory = os.path.dirname('./data/')\n",
    "\n",
    "\n",
    "os.mkdir(directory)\n",
    "os.mkdir(os.path.dirname('./data/Cat/'))\n",
    "os.mkdir(os.path.dirname('./data/Dog/'))"
   ]
  },
  {
   "cell_type": "code",
   "execution_count": 0,
   "metadata": {
    "colab": {},
    "colab_type": "code",
    "id": "UNX8EocITYwT"
   },
   "outputs": [],
   "source": [
    "\n",
    "path_to_data_cat = 'drive/My Drive/DL-assignment1/npy_data/Cat/'\n",
    "\n",
    "path_to_data_dog = 'drive/My Drive/DL-assignment1/npy_data/Dog/'\n",
    "startTime = time.time()\n",
    "for i in range(9998):\n",
    "  \n",
    "  data = np.load(path_to_data_cat + str(i+1) + '.npy')\n",
    "  data2 = np.load(path_to_data_dog+ str(i+1) + '.npy')\n",
    "  \n",
    "  np.save('./data/Cat/', data)\n",
    "  np.save('./data/Dog/', data2)\n",
    "  if i % 1000 == 0:\n",
    "    print(i, ' data transfered.')\n",
    "print('data transferred in ' ,time.time()-startTime, ' seconds.')"
   ]
  },
  {
   "cell_type": "code",
   "execution_count": 0,
   "metadata": {
    "colab": {
     "base_uri": "https://localhost:8080/",
     "height": 35
    },
    "colab_type": "code",
    "id": "YHYr6BE3QExR",
    "outputId": "dcd5bed4-db1e-4093-a507-1181e556a4e3"
   },
   "outputs": [
    {
     "name": "stdout",
     "output_type": "stream",
     "text": [
      "0  1\n"
     ]
    }
   ],
   "source": [
    "# Delete all data in folder \n",
    "import os, shutil\n",
    "folder = './data/'\n",
    "for the_file in os.listdir(folder):\n",
    "    file_path = os.path.join(folder, the_file)\n",
    "    try:\n",
    "        if os.path.isfile(file_path):\n",
    "            os.unlink(file_path)\n",
    "        elif os.path.isdir(file_path): shutil.rmtree(file_path)\n",
    "    except Exception as e:\n",
    "        print(e)\n",
    "\n",
    "!ls \"./data_ds/\""
   ]
  },
  {
   "cell_type": "code",
   "execution_count": 0,
   "metadata": {
    "colab": {},
    "colab_type": "code",
    "id": "NE_LcyAZQE00"
   },
   "outputs": [],
   "source": [
    "import sys\n",
    "import os\n",
    "import csv\n",
    "\n",
    "#Useful function\n",
    "def createFileList(myDir, format='.jpg'):\n",
    "  fileList = []\n",
    "  print(myDir)\n",
    "  for root, dirs, files in os.walk(myDir, topdown=False):\n",
    "      for name in files:\n",
    "          if name.endswith(format):\n",
    "              fullName = os.path.join(root, name)\n",
    "              fileList.append(fullName)\n",
    "return fileList"
   ]
  },
  {
   "cell_type": "code",
   "execution_count": 0,
   "metadata": {
    "colab": {},
    "colab_type": "code",
    "id": "8MieBo9rQEvV"
   },
   "outputs": [],
   "source": [
    "myFileList = createFileList('drive/My Drive/DL-assignment1/trainset/Cat')\n",
    "\n",
    "for file in fileList:\n",
    "    img_file = Image.open(file)\n",
    "    # img_file.show()\n",
    "\n",
    "    # get original image parameters...\n",
    "    width, height = img_file.size\n",
    "    format = img_file.format\n",
    "    mode = img_file.mode\n",
    "\n",
    "    # Make image Greyscale\n",
    "    img_grey = img_file.convert('L')\n",
    "    #img_grey.save('result.png')\n",
    "    #img_grey.show()\n",
    "\n",
    "    # Save Greyscale values\n",
    "    value = np.asarray(img_grey.getdata(), dtype=np.int).reshape((img_grey.size[1], img_grey.size[0]))\n",
    "    value = value.flatten()\n",
    "    print(value)\n",
    "    with open(\"data.csv\", 'a') as f:\n",
    "        writer = csv.writer(f)\n",
    "        writer.writerow(value)"
   ]
  },
  {
   "cell_type": "code",
   "execution_count": 0,
   "metadata": {
    "colab": {},
    "colab_type": "code",
    "id": "Eyu1m76BQTNT"
   },
   "outputs": [],
   "source": []
  },
  {
   "cell_type": "code",
   "execution_count": 0,
   "metadata": {
    "colab": {},
    "colab_type": "code",
    "id": "0TTSnLpbQTQ_"
   },
   "outputs": [],
   "source": []
  },
  {
   "cell_type": "code",
   "execution_count": 0,
   "metadata": {
    "colab": {},
    "colab_type": "code",
    "id": "WH1MXHJsQUB4"
   },
   "outputs": [],
   "source": []
  },
  {
   "cell_type": "code",
   "execution_count": 0,
   "metadata": {
    "colab": {},
    "colab_type": "code",
    "id": "7vqZvPKiQTK6"
   },
   "outputs": [],
   "source": []
  },
  {
   "cell_type": "markdown",
   "metadata": {
    "colab_type": "text",
    "id": "fbAd0momizPG"
   },
   "source": [
    "#### npy saved as 64,64,3  This changes it to 3, 64, 64"
   ]
  },
  {
   "cell_type": "code",
   "execution_count": 0,
   "metadata": {
    "colab": {
     "base_uri": "https://localhost:8080/",
     "height": 487
    },
    "colab_type": "code",
    "id": "usEZsDAoim2q",
    "outputId": "b3e353e6-fa41-4409-f058-b97104f91b6f"
   },
   "outputs": [
    {
     "ename": "ValueError",
     "evalue": "ignored",
     "output_type": "error",
     "traceback": [
      "\u001b[0;31m---------------------------------------------------------------------------\u001b[0m",
      "\u001b[0;31mValueError\u001b[0m                                Traceback (most recent call last)",
      "\u001b[0;32m<ipython-input-68-3e038d75f7e8>\u001b[0m in \u001b[0;36m<module>\u001b[0;34m()\u001b[0m\n\u001b[1;32m      2\u001b[0m \u001b[0;32mfor\u001b[0m \u001b[0my\u001b[0m \u001b[0;32min\u001b[0m \u001b[0mrange\u001b[0m\u001b[0;34m(\u001b[0m\u001b[0;36m9999\u001b[0m\u001b[0;34m)\u001b[0m\u001b[0;34m:\u001b[0m\u001b[0;34m\u001b[0m\u001b[0;34m\u001b[0m\u001b[0m\n\u001b[1;32m      3\u001b[0m   \u001b[0mx\u001b[0m \u001b[0;34m=\u001b[0m \u001b[0mnp\u001b[0m\u001b[0;34m.\u001b[0m\u001b[0mload\u001b[0m\u001b[0;34m(\u001b[0m\u001b[0;34m'drive/My Drive/DL-assignment1/npy_data/Dog/'\u001b[0m\u001b[0;34m+\u001b[0m\u001b[0mstr\u001b[0m\u001b[0;34m(\u001b[0m\u001b[0my\u001b[0m\u001b[0;34m+\u001b[0m\u001b[0;36m1\u001b[0m\u001b[0;34m)\u001b[0m\u001b[0;34m+\u001b[0m\u001b[0;34m'.npy'\u001b[0m\u001b[0;34m)\u001b[0m\u001b[0;34m\u001b[0m\u001b[0;34m\u001b[0m\u001b[0m\n\u001b[0;32m----> 4\u001b[0;31m   \u001b[0mz\u001b[0m \u001b[0;34m=\u001b[0m \u001b[0mnp\u001b[0m\u001b[0;34m.\u001b[0m\u001b[0mreshape\u001b[0m\u001b[0;34m(\u001b[0m\u001b[0mx\u001b[0m\u001b[0;34m,\u001b[0m \u001b[0;34m(\u001b[0m\u001b[0;36m3\u001b[0m\u001b[0;34m,\u001b[0m\u001b[0;36m64\u001b[0m\u001b[0;34m,\u001b[0m\u001b[0;36m64\u001b[0m\u001b[0;34m)\u001b[0m\u001b[0;34m)\u001b[0m\u001b[0;34m\u001b[0m\u001b[0;34m\u001b[0m\u001b[0m\n\u001b[0m\u001b[1;32m      5\u001b[0m   \u001b[0mnp\u001b[0m\u001b[0;34m.\u001b[0m\u001b[0msave\u001b[0m\u001b[0;34m(\u001b[0m \u001b[0;34m'drive/My Drive/DL-assignment1/npy_data/Dog/'\u001b[0m\u001b[0;34m+\u001b[0m\u001b[0mstr\u001b[0m\u001b[0;34m(\u001b[0m\u001b[0my\u001b[0m\u001b[0;34m+\u001b[0m\u001b[0;36m1\u001b[0m\u001b[0;34m)\u001b[0m \u001b[0;34m,\u001b[0m \u001b[0mz\u001b[0m\u001b[0;34m)\u001b[0m\u001b[0;34m\u001b[0m\u001b[0;34m\u001b[0m\u001b[0m\n\u001b[1;32m      6\u001b[0m \u001b[0;34m\u001b[0m\u001b[0m\n",
      "\u001b[0;32m/usr/local/lib/python3.6/dist-packages/numpy/core/fromnumeric.py\u001b[0m in \u001b[0;36mreshape\u001b[0;34m(a, newshape, order)\u001b[0m\n\u001b[1;32m    255\u001b[0m            [5, 6]])\n\u001b[1;32m    256\u001b[0m     \"\"\"\n\u001b[0;32m--> 257\u001b[0;31m     \u001b[0;32mreturn\u001b[0m \u001b[0m_wrapfunc\u001b[0m\u001b[0;34m(\u001b[0m\u001b[0ma\u001b[0m\u001b[0;34m,\u001b[0m \u001b[0;34m'reshape'\u001b[0m\u001b[0;34m,\u001b[0m \u001b[0mnewshape\u001b[0m\u001b[0;34m,\u001b[0m \u001b[0morder\u001b[0m\u001b[0;34m=\u001b[0m\u001b[0morder\u001b[0m\u001b[0;34m)\u001b[0m\u001b[0;34m\u001b[0m\u001b[0;34m\u001b[0m\u001b[0m\n\u001b[0m\u001b[1;32m    258\u001b[0m \u001b[0;34m\u001b[0m\u001b[0m\n\u001b[1;32m    259\u001b[0m \u001b[0;34m\u001b[0m\u001b[0m\n",
      "\u001b[0;32m/usr/local/lib/python3.6/dist-packages/numpy/core/fromnumeric.py\u001b[0m in \u001b[0;36m_wrapfunc\u001b[0;34m(obj, method, *args, **kwds)\u001b[0m\n\u001b[1;32m     50\u001b[0m \u001b[0;32mdef\u001b[0m \u001b[0m_wrapfunc\u001b[0m\u001b[0;34m(\u001b[0m\u001b[0mobj\u001b[0m\u001b[0;34m,\u001b[0m \u001b[0mmethod\u001b[0m\u001b[0;34m,\u001b[0m \u001b[0;34m*\u001b[0m\u001b[0margs\u001b[0m\u001b[0;34m,\u001b[0m \u001b[0;34m**\u001b[0m\u001b[0mkwds\u001b[0m\u001b[0;34m)\u001b[0m\u001b[0;34m:\u001b[0m\u001b[0;34m\u001b[0m\u001b[0;34m\u001b[0m\u001b[0m\n\u001b[1;32m     51\u001b[0m     \u001b[0;32mtry\u001b[0m\u001b[0;34m:\u001b[0m\u001b[0;34m\u001b[0m\u001b[0;34m\u001b[0m\u001b[0m\n\u001b[0;32m---> 52\u001b[0;31m         \u001b[0;32mreturn\u001b[0m \u001b[0mgetattr\u001b[0m\u001b[0;34m(\u001b[0m\u001b[0mobj\u001b[0m\u001b[0;34m,\u001b[0m \u001b[0mmethod\u001b[0m\u001b[0;34m)\u001b[0m\u001b[0;34m(\u001b[0m\u001b[0;34m*\u001b[0m\u001b[0margs\u001b[0m\u001b[0;34m,\u001b[0m \u001b[0;34m**\u001b[0m\u001b[0mkwds\u001b[0m\u001b[0;34m)\u001b[0m\u001b[0;34m\u001b[0m\u001b[0;34m\u001b[0m\u001b[0m\n\u001b[0m\u001b[1;32m     53\u001b[0m \u001b[0;34m\u001b[0m\u001b[0m\n\u001b[1;32m     54\u001b[0m     \u001b[0;31m# An AttributeError occurs if the object does not have\u001b[0m\u001b[0;34m\u001b[0m\u001b[0;34m\u001b[0m\u001b[0;34m\u001b[0m\u001b[0m\n",
      "\u001b[0;31mValueError\u001b[0m: cannot reshape array of size 4096 into shape (3,64,64)"
     ]
    }
   ],
   "source": [
    "\n",
    "for y in range(9999):\n",
    "  x = np.load('drive/My Drive/DL-assignment1/npy_data/Dog/'+str(y+1)+'.npy')\n",
    "  z = np.reshape(x, (3,64,64))\n",
    "  np.save( 'drive/My Drive/DL-assignment1/npy_data/Dog/'+str(y+1) , z)\n",
    "\n",
    "\n"
   ]
  },
  {
   "cell_type": "code",
   "execution_count": 0,
   "metadata": {
    "colab": {},
    "colab_type": "code",
    "id": "WXmaVtsxakyy"
   },
   "outputs": [],
   "source": []
  },
  {
   "cell_type": "markdown",
   "metadata": {
    "colab_type": "text",
    "id": "ZYkufj3Q9Joc"
   },
   "source": [
    "### Data Loading and Model definition"
   ]
  },
  {
   "cell_type": "code",
   "execution_count": 15,
   "metadata": {
    "colab": {
     "base_uri": "https://localhost:8080/",
     "height": 428
    },
    "colab_type": "code",
    "id": "Dt9eJoV3lmAq",
    "outputId": "9abaa550-e568-43fc-feb8-ee357256b30e"
   },
   "outputs": [
    {
     "name": "stdout",
     "output_type": "stream",
     "text": [
      "Collecting Pillow==4.0.0\n",
      "  Using cached https://files.pythonhosted.org/packages/8d/80/eca7a2d1a3c2dafb960f32f844d570de988e609f5fd17de92e1cf6a01b0a/Pillow-4.0.0.tar.gz\n",
      "Requirement already satisfied: olefile in c:\\users\\public\\anaconda3\\lib\\site-packages (from Pillow==4.0.0) (0.46)\n",
      "Building wheels for collected packages: Pillow\n",
      "  Building wheel for Pillow (setup.py): started\n",
      "  Building wheel for Pillow (setup.py): finished with status 'error'\n",
      "  Complete output from command C:\\Users\\Public\\Anaconda3\\python.exe -u -c \"import setuptools, tokenize;__file__='C:\\\\Users\\\\Public\\\\Documents\\\\Wondershare\\\\CreatorTemp\\\\pip-install-44ux_jp6\\\\Pillow\\\\setup.py';f=getattr(tokenize, 'open', open)(__file__);code=f.read().replace('\\r\\n', '\\n');f.close();exec(compile(code, __file__, 'exec'))\" bdist_wheel -d C:\\Users\\Public\\Documents\\Wondershare\\CreatorTemp\\pip-wheel-c8kmp6ie --python-tag cp37:\n",
      "  Single threaded build for windows\n",
      "  running bdist_wheel\n",
      "  running build\n",
      "  running build_py\n",
      "  creating build\n",
      "  creating build\\lib.win-amd64-3.7\n",
      "  creating build\\lib.win-amd64-3.7\\PIL\n",
      "  copying PIL\\BdfFontFile.py -> build\\lib.win-amd64-3.7\\PIL\n",
      "  copying PIL\\BmpImagePlugin.py -> build\\lib.win-amd64-3.7\\PIL\n",
      "  copying PIL\\BufrStubImagePlugin.py -> build\\lib.win-amd64-3.7\\PIL\n",
      "  copying PIL\\ContainerIO.py -> build\\lib.win-amd64-3.7\\PIL\n",
      "  copying PIL\\CurImagePlugin.py -> build\\lib.win-amd64-3.7\\PIL\n",
      "  copying PIL\\DcxImagePlugin.py -> build\\lib.win-amd64-3.7\\PIL\n",
      "  copying PIL\\DdsImagePlugin.py -> build\\lib.win-amd64-3.7\\PIL\n",
      "  copying PIL\\EpsImagePlugin.py -> build\\lib.win-amd64-3.7\\PIL\n",
      "  copying PIL\\ExifTags.py -> build\\lib.win-amd64-3.7\\PIL\n",
      "  copying PIL\\features.py -> build\\lib.win-amd64-3.7\\PIL\n",
      "  copying PIL\\FitsStubImagePlugin.py -> build\\lib.win-amd64-3.7\\PIL\n",
      "  copying PIL\\FliImagePlugin.py -> build\\lib.win-amd64-3.7\\PIL\n",
      "  copying PIL\\FontFile.py -> build\\lib.win-amd64-3.7\\PIL\n",
      "  copying PIL\\FpxImagePlugin.py -> build\\lib.win-amd64-3.7\\PIL\n",
      "  copying PIL\\FtexImagePlugin.py -> build\\lib.win-amd64-3.7\\PIL\n",
      "  copying PIL\\GbrImagePlugin.py -> build\\lib.win-amd64-3.7\\PIL\n",
      "  copying PIL\\GdImageFile.py -> build\\lib.win-amd64-3.7\\PIL\n",
      "  copying PIL\\GifImagePlugin.py -> build\\lib.win-amd64-3.7\\PIL\n",
      "  copying PIL\\GimpGradientFile.py -> build\\lib.win-amd64-3.7\\PIL\n",
      "  copying PIL\\GimpPaletteFile.py -> build\\lib.win-amd64-3.7\\PIL\n",
      "  copying PIL\\GribStubImagePlugin.py -> build\\lib.win-amd64-3.7\\PIL\n",
      "  copying PIL\\Hdf5StubImagePlugin.py -> build\\lib.win-amd64-3.7\\PIL\n",
      "  copying PIL\\IcnsImagePlugin.py -> build\\lib.win-amd64-3.7\\PIL\n",
      "  copying PIL\\IcoImagePlugin.py -> build\\lib.win-amd64-3.7\\PIL\n",
      "  copying PIL\\Image.py -> build\\lib.win-amd64-3.7\\PIL\n",
      "  copying PIL\\ImageChops.py -> build\\lib.win-amd64-3.7\\PIL\n",
      "  copying PIL\\ImageCms.py -> build\\lib.win-amd64-3.7\\PIL\n",
      "  copying PIL\\ImageColor.py -> build\\lib.win-amd64-3.7\\PIL\n",
      "  copying PIL\\ImageDraw.py -> build\\lib.win-amd64-3.7\\PIL\n",
      "  copying PIL\\ImageDraw2.py -> build\\lib.win-amd64-3.7\\PIL\n",
      "  copying PIL\\ImageEnhance.py -> build\\lib.win-amd64-3.7\\PIL\n",
      "  copying PIL\\ImageFile.py -> build\\lib.win-amd64-3.7\\PIL\n",
      "  copying PIL\\ImageFilter.py -> build\\lib.win-amd64-3.7\\PIL\n",
      "  copying PIL\\ImageFont.py -> build\\lib.win-amd64-3.7\\PIL\n",
      "  copying PIL\\ImageGrab.py -> build\\lib.win-amd64-3.7\\PIL\n",
      "  copying PIL\\ImageMath.py -> build\\lib.win-amd64-3.7\\PIL\n",
      "  copying PIL\\ImageMode.py -> build\\lib.win-amd64-3.7\\PIL\n",
      "  copying PIL\\ImageMorph.py -> build\\lib.win-amd64-3.7\\PIL\n",
      "  copying PIL\\ImageOps.py -> build\\lib.win-amd64-3.7\\PIL\n",
      "  copying PIL\\ImagePalette.py -> build\\lib.win-amd64-3.7\\PIL\n",
      "  copying PIL\\ImagePath.py -> build\\lib.win-amd64-3.7\\PIL\n",
      "  copying PIL\\ImageQt.py -> build\\lib.win-amd64-3.7\\PIL\n",
      "  copying PIL\\ImageSequence.py -> build\\lib.win-amd64-3.7\\PIL\n",
      "  copying PIL\\ImageShow.py -> build\\lib.win-amd64-3.7\\PIL\n",
      "  copying PIL\\ImageStat.py -> build\\lib.win-amd64-3.7\\PIL\n",
      "  copying PIL\\ImageTk.py -> build\\lib.win-amd64-3.7\\PIL\n",
      "  copying PIL\\ImageTransform.py -> build\\lib.win-amd64-3.7\\PIL\n",
      "  copying PIL\\ImageWin.py -> build\\lib.win-amd64-3.7\\PIL\n",
      "  copying PIL\\ImImagePlugin.py -> build\\lib.win-amd64-3.7\\PIL\n",
      "  copying PIL\\ImtImagePlugin.py -> build\\lib.win-amd64-3.7\\PIL\n",
      "  copying PIL\\IptcImagePlugin.py -> build\\lib.win-amd64-3.7\\PIL\n",
      "  copying PIL\\Jpeg2KImagePlugin.py -> build\\lib.win-amd64-3.7\\PIL\n",
      "  copying PIL\\JpegImagePlugin.py -> build\\lib.win-amd64-3.7\\PIL\n",
      "  copying PIL\\JpegPresets.py -> build\\lib.win-amd64-3.7\\PIL\n",
      "  copying PIL\\McIdasImagePlugin.py -> build\\lib.win-amd64-3.7\\PIL\n",
      "  copying PIL\\MicImagePlugin.py -> build\\lib.win-amd64-3.7\\PIL\n",
      "  copying PIL\\MpegImagePlugin.py -> build\\lib.win-amd64-3.7\\PIL\n",
      "  copying PIL\\MpoImagePlugin.py -> build\\lib.win-amd64-3.7\\PIL\n",
      "  copying PIL\\MspImagePlugin.py -> build\\lib.win-amd64-3.7\\PIL\n",
      "  copying PIL\\OleFileIO.py -> build\\lib.win-amd64-3.7\\PIL\n",
      "  copying PIL\\PaletteFile.py -> build\\lib.win-amd64-3.7\\PIL\n",
      "  copying PIL\\PalmImagePlugin.py -> build\\lib.win-amd64-3.7\\PIL\n",
      "  copying PIL\\PcdImagePlugin.py -> build\\lib.win-amd64-3.7\\PIL\n",
      "  copying PIL\\PcfFontFile.py -> build\\lib.win-amd64-3.7\\PIL\n",
      "  copying PIL\\PcxImagePlugin.py -> build\\lib.win-amd64-3.7\\PIL\n",
      "  copying PIL\\PdfImagePlugin.py -> build\\lib.win-amd64-3.7\\PIL\n",
      "  copying PIL\\PixarImagePlugin.py -> build\\lib.win-amd64-3.7\\PIL\n",
      "  copying PIL\\PngImagePlugin.py -> build\\lib.win-amd64-3.7\\PIL\n",
      "  copying PIL\\PpmImagePlugin.py -> build\\lib.win-amd64-3.7\\PIL\n",
      "  copying PIL\\PsdImagePlugin.py -> build\\lib.win-amd64-3.7\\PIL\n",
      "  copying PIL\\PSDraw.py -> build\\lib.win-amd64-3.7\\PIL\n",
      "  copying PIL\\PyAccess.py -> build\\lib.win-amd64-3.7\\PIL\n",
      "  copying PIL\\SgiImagePlugin.py -> build\\lib.win-amd64-3.7\\PIL\n",
      "  copying PIL\\SpiderImagePlugin.py -> build\\lib.win-amd64-3.7\\PIL\n",
      "  copying PIL\\SunImagePlugin.py -> build\\lib.win-amd64-3.7\\PIL\n",
      "  copying PIL\\TarIO.py -> build\\lib.win-amd64-3.7\\PIL\n",
      "  copying PIL\\TgaImagePlugin.py -> build\\lib.win-amd64-3.7\\PIL\n",
      "  copying PIL\\TiffImagePlugin.py -> build\\lib.win-amd64-3.7\\PIL\n",
      "  copying PIL\\TiffTags.py -> build\\lib.win-amd64-3.7\\PIL\n",
      "  copying PIL\\WalImageFile.py -> build\\lib.win-amd64-3.7\\PIL\n",
      "  copying PIL\\WebPImagePlugin.py -> build\\lib.win-amd64-3.7\\PIL\n",
      "  copying PIL\\WmfImagePlugin.py -> build\\lib.win-amd64-3.7\\PIL\n",
      "  copying PIL\\XbmImagePlugin.py -> build\\lib.win-amd64-3.7\\PIL\n",
      "  copying PIL\\XpmImagePlugin.py -> build\\lib.win-amd64-3.7\\PIL\n",
      "  copying PIL\\XVThumbImagePlugin.py -> build\\lib.win-amd64-3.7\\PIL\n",
      "  copying PIL\\_binary.py -> build\\lib.win-amd64-3.7\\PIL\n",
      "  copying PIL\\_tkinter_finder.py -> build\\lib.win-amd64-3.7\\PIL\n",
      "  copying PIL\\_util.py -> build\\lib.win-amd64-3.7\\PIL\n",
      "  copying PIL\\__init__.py -> build\\lib.win-amd64-3.7\\PIL\n",
      "  running egg_info\n",
      "  writing Pillow.egg-info\\PKG-INFO\n",
      "  writing dependency_links to Pillow.egg-info\\dependency_links.txt\n",
      "  writing requirements to Pillow.egg-info\\requires.txt\n",
      "  writing top-level names to Pillow.egg-info\\top_level.txt\n",
      "  reading manifest file 'Pillow.egg-info\\SOURCES.txt'\n",
      "  reading manifest template 'MANIFEST.in'\n",
      "  warning: no files found matching '*.sh'\n",
      "  no previously-included directories found matching 'docs\\_static'\n",
      "  warning: no previously-included files found matching '.coveragerc'\n",
      "  warning: no previously-included files found matching '.editorconfig'\n",
      "  warning: no previously-included files found matching '.landscape.yaml'\n",
      "  warning: no previously-included files found matching 'appveyor.yml'\n",
      "  warning: no previously-included files found matching 'build_children.sh'\n",
      "  warning: no previously-included files found matching 'tox.ini'\n",
      "  warning: no previously-included files matching '.git*' found anywhere in distribution\n",
      "  warning: no previously-included files matching '*.pyc' found anywhere in distribution\n",
      "  warning: no previously-included files matching '*.so' found anywhere in distribution\n",
      "  writing manifest file 'Pillow.egg-info\\SOURCES.txt'\n",
      "  running build_ext\n",
      "  \n",
      "  \n",
      "  The headers or library files could not be found for zlib,\n",
      "  a required dependency when compiling Pillow from source.\n",
      "  \n",
      "  Please see the install instructions at:\n",
      "     http://pillow.readthedocs.io/en/latest/installation.html\n",
      "  \n",
      "  Traceback (most recent call last):\n",
      "    File \"C:\\Users\\Public\\Documents\\Wondershare\\CreatorTemp\\pip-install-44ux_jp6\\Pillow\\setup.py\", line 779, in <module>\n",
      "      zip_safe=not debug_build(), )\n"
     ]
    },
    {
     "name": "stdout",
     "output_type": "stream",
     "text": [
      "    File \"C:\\Users\\Public\\Anaconda3\\lib\\site-packages\\setuptools\\__init__.py\", line 140, in setup\n",
      "      return distutils.core.setup(**attrs)\n",
      "    File \"C:\\Users\\Public\\Anaconda3\\lib\\distutils\\core.py\", line 148, in setup\n",
      "      dist.run_commands()\n",
      "    File \"C:\\Users\\Public\\Anaconda3\\lib\\distutils\\dist.py\", line 966, in run_commands\n",
      "      self.run_command(cmd)\n",
      "    File \"C:\\Users\\Public\\Anaconda3\\lib\\distutils\\dist.py\", line 985, in run_command\n",
      "      cmd_obj.run()\n",
      "    File \"C:\\Users\\Public\\Anaconda3\\lib\\site-packages\\wheel\\bdist_wheel.py\", line 202, in run\n",
      "      self.run_command('build')\n",
      "    File \"C:\\Users\\Public\\Anaconda3\\lib\\distutils\\cmd.py\", line 313, in run_command\n",
      "      self.distribution.run_command(command)\n",
      "    File \"C:\\Users\\Public\\Anaconda3\\lib\\distutils\\dist.py\", line 985, in run_command\n",
      "      cmd_obj.run()\n",
      "    File \"C:\\Users\\Public\\Anaconda3\\lib\\distutils\\command\\build.py\", line 135, in run\n",
      "      self.run_command(cmd_name)\n",
      "    File \"C:\\Users\\Public\\Anaconda3\\lib\\distutils\\cmd.py\", line 313, in run_command\n",
      "      self.distribution.run_command(command)\n",
      "    File \"C:\\Users\\Public\\Anaconda3\\lib\\distutils\\dist.py\", line 985, in run_command\n",
      "      cmd_obj.run()\n",
      "    File \"C:\\Users\\Public\\Anaconda3\\lib\\distutils\\command\\build_ext.py\", line 339, in run\n",
      "      self.build_extensions()\n",
      "    File \"C:\\Users\\Public\\Documents\\Wondershare\\CreatorTemp\\pip-install-44ux_jp6\\Pillow\\setup.py\", line 549, in build_extensions\n",
      "      raise RequiredDependencyException(f)\n",
      "  __main__.RequiredDependencyException: zlib\n",
      "  \n",
      "  During handling of the above exception, another exception occurred:\n",
      "  \n",
      "  Traceback (most recent call last):\n",
      "    File \"<string>\", line 1, in <module>\n",
      "    File \"C:\\Users\\Public\\Documents\\Wondershare\\CreatorTemp\\pip-install-44ux_jp6\\Pillow\\setup.py\", line 791, in <module>\n",
      "      raise RequiredDependencyException(msg)\n",
      "  __main__.RequiredDependencyException:\n",
      "  \n",
      "  The headers or library files could not be found for zlib,\n",
      "  a required dependency when compiling Pillow from source.\n",
      "  \n",
      "  Please see the install instructions at:\n",
      "     http://pillow.readthedocs.io/en/latest/installation.html\n",
      "  \n",
      "  \n",
      "  \n",
      "  ----------------------------------------\n",
      "  Running setup.py clean for Pillow\n",
      "Failed to build Pillow\n",
      "Installing collected packages: Pillow\n",
      "  Found existing installation: Pillow 5.4.1\n",
      "    Uninstalling Pillow-5.4.1:\n",
      "      Successfully uninstalled Pillow-5.4.1\n",
      "  Running setup.py install for Pillow: started\n",
      "    Running setup.py install for Pillow: finished with status 'error'\n",
      "    Complete output from command C:\\Users\\Public\\Anaconda3\\python.exe -u -c \"import setuptools, tokenize;__file__='C:\\\\Users\\\\Public\\\\Documents\\\\Wondershare\\\\CreatorTemp\\\\pip-install-44ux_jp6\\\\Pillow\\\\setup.py';f=getattr(tokenize, 'open', open)(__file__);code=f.read().replace('\\r\\n', '\\n');f.close();exec(compile(code, __file__, 'exec'))\" install --record C:\\Users\\Public\\Documents\\Wondershare\\CreatorTemp\\pip-record-y4fuit31\\install-record.txt --single-version-externally-managed --compile:\n",
      "    Single threaded build for windows\n",
      "    running install\n",
      "    running build\n",
      "    running build_py\n",
      "    creating build\n",
      "    creating build\\lib.win-amd64-3.7\n",
      "    creating build\\lib.win-amd64-3.7\\PIL\n",
      "    copying PIL\\BdfFontFile.py -> build\\lib.win-amd64-3.7\\PIL\n",
      "    copying PIL\\BmpImagePlugin.py -> build\\lib.win-amd64-3.7\\PIL\n",
      "    copying PIL\\BufrStubImagePlugin.py -> build\\lib.win-amd64-3.7\\PIL\n",
      "    copying PIL\\ContainerIO.py -> build\\lib.win-amd64-3.7\\PIL\n",
      "    copying PIL\\CurImagePlugin.py -> build\\lib.win-amd64-3.7\\PIL\n",
      "    copying PIL\\DcxImagePlugin.py -> build\\lib.win-amd64-3.7\\PIL\n",
      "    copying PIL\\DdsImagePlugin.py -> build\\lib.win-amd64-3.7\\PIL\n",
      "    copying PIL\\EpsImagePlugin.py -> build\\lib.win-amd64-3.7\\PIL\n",
      "    copying PIL\\ExifTags.py -> build\\lib.win-amd64-3.7\\PIL\n",
      "    copying PIL\\features.py -> build\\lib.win-amd64-3.7\\PIL\n",
      "    copying PIL\\FitsStubImagePlugin.py -> build\\lib.win-amd64-3.7\\PIL\n",
      "    copying PIL\\FliImagePlugin.py -> build\\lib.win-amd64-3.7\\PIL\n",
      "    copying PIL\\FontFile.py -> build\\lib.win-amd64-3.7\\PIL\n",
      "    copying PIL\\FpxImagePlugin.py -> build\\lib.win-amd64-3.7\\PIL\n",
      "    copying PIL\\FtexImagePlugin.py -> build\\lib.win-amd64-3.7\\PIL\n",
      "    copying PIL\\GbrImagePlugin.py -> build\\lib.win-amd64-3.7\\PIL\n",
      "    copying PIL\\GdImageFile.py -> build\\lib.win-amd64-3.7\\PIL\n",
      "    copying PIL\\GifImagePlugin.py -> build\\lib.win-amd64-3.7\\PIL\n",
      "    copying PIL\\GimpGradientFile.py -> build\\lib.win-amd64-3.7\\PIL\n",
      "    copying PIL\\GimpPaletteFile.py -> build\\lib.win-amd64-3.7\\PIL\n",
      "    copying PIL\\GribStubImagePlugin.py -> build\\lib.win-amd64-3.7\\PIL\n",
      "    copying PIL\\Hdf5StubImagePlugin.py -> build\\lib.win-amd64-3.7\\PIL\n",
      "    copying PIL\\IcnsImagePlugin.py -> build\\lib.win-amd64-3.7\\PIL\n",
      "    copying PIL\\IcoImagePlugin.py -> build\\lib.win-amd64-3.7\\PIL\n",
      "    copying PIL\\Image.py -> build\\lib.win-amd64-3.7\\PIL\n",
      "    copying PIL\\ImageChops.py -> build\\lib.win-amd64-3.7\\PIL\n",
      "    copying PIL\\ImageCms.py -> build\\lib.win-amd64-3.7\\PIL\n",
      "    copying PIL\\ImageColor.py -> build\\lib.win-amd64-3.7\\PIL\n",
      "    copying PIL\\ImageDraw.py -> build\\lib.win-amd64-3.7\\PIL\n",
      "    copying PIL\\ImageDraw2.py -> build\\lib.win-amd64-3.7\\PIL\n",
      "    copying PIL\\ImageEnhance.py -> build\\lib.win-amd64-3.7\\PIL\n",
      "    copying PIL\\ImageFile.py -> build\\lib.win-amd64-3.7\\PIL\n",
      "    copying PIL\\ImageFilter.py -> build\\lib.win-amd64-3.7\\PIL\n",
      "    copying PIL\\ImageFont.py -> build\\lib.win-amd64-3.7\\PIL\n",
      "    copying PIL\\ImageGrab.py -> build\\lib.win-amd64-3.7\\PIL\n",
      "    copying PIL\\ImageMath.py -> build\\lib.win-amd64-3.7\\PIL\n",
      "    copying PIL\\ImageMode.py -> build\\lib.win-amd64-3.7\\PIL\n",
      "    copying PIL\\ImageMorph.py -> build\\lib.win-amd64-3.7\\PIL\n",
      "    copying PIL\\ImageOps.py -> build\\lib.win-amd64-3.7\\PIL\n",
      "    copying PIL\\ImagePalette.py -> build\\lib.win-amd64-3.7\\PIL\n",
      "    copying PIL\\ImagePath.py -> build\\lib.win-amd64-3.7\\PIL\n",
      "    copying PIL\\ImageQt.py -> build\\lib.win-amd64-3.7\\PIL\n",
      "    copying PIL\\ImageSequence.py -> build\\lib.win-amd64-3.7\\PIL\n",
      "    copying PIL\\ImageShow.py -> build\\lib.win-amd64-3.7\\PIL\n",
      "    copying PIL\\ImageStat.py -> build\\lib.win-amd64-3.7\\PIL\n",
      "    copying PIL\\ImageTk.py -> build\\lib.win-amd64-3.7\\PIL\n",
      "    copying PIL\\ImageTransform.py -> build\\lib.win-amd64-3.7\\PIL\n",
      "    copying PIL\\ImageWin.py -> build\\lib.win-amd64-3.7\\PIL\n",
      "    copying PIL\\ImImagePlugin.py -> build\\lib.win-amd64-3.7\\PIL\n",
      "    copying PIL\\ImtImagePlugin.py -> build\\lib.win-amd64-3.7\\PIL\n",
      "    copying PIL\\IptcImagePlugin.py -> build\\lib.win-amd64-3.7\\PIL\n",
      "    copying PIL\\Jpeg2KImagePlugin.py -> build\\lib.win-amd64-3.7\\PIL\n",
      "    copying PIL\\JpegImagePlugin.py -> build\\lib.win-amd64-3.7\\PIL\n",
      "    copying PIL\\JpegPresets.py -> build\\lib.win-amd64-3.7\\PIL\n",
      "    copying PIL\\McIdasImagePlugin.py -> build\\lib.win-amd64-3.7\\PIL\n",
      "    copying PIL\\MicImagePlugin.py -> build\\lib.win-amd64-3.7\\PIL\n",
      "    copying PIL\\MpegImagePlugin.py -> build\\lib.win-amd64-3.7\\PIL\n",
      "    copying PIL\\MpoImagePlugin.py -> build\\lib.win-amd64-3.7\\PIL\n",
      "    copying PIL\\MspImagePlugin.py -> build\\lib.win-amd64-3.7\\PIL\n",
      "    copying PIL\\OleFileIO.py -> build\\lib.win-amd64-3.7\\PIL\n",
      "    copying PIL\\PaletteFile.py -> build\\lib.win-amd64-3.7\\PIL\n",
      "    copying PIL\\PalmImagePlugin.py -> build\\lib.win-amd64-3.7\\PIL\n",
      "    copying PIL\\PcdImagePlugin.py -> build\\lib.win-amd64-3.7\\PIL\n",
      "    copying PIL\\PcfFontFile.py -> build\\lib.win-amd64-3.7\\PIL\n",
      "    copying PIL\\PcxImagePlugin.py -> build\\lib.win-amd64-3.7\\PIL\n",
      "    copying PIL\\PdfImagePlugin.py -> build\\lib.win-amd64-3.7\\PIL\n",
      "    copying PIL\\PixarImagePlugin.py -> build\\lib.win-amd64-3.7\\PIL\n",
      "    copying PIL\\PngImagePlugin.py -> build\\lib.win-amd64-3.7\\PIL\n",
      "    copying PIL\\PpmImagePlugin.py -> build\\lib.win-amd64-3.7\\PIL\n",
      "    copying PIL\\PsdImagePlugin.py -> build\\lib.win-amd64-3.7\\PIL\n",
      "    copying PIL\\PSDraw.py -> build\\lib.win-amd64-3.7\\PIL\n",
      "    copying PIL\\PyAccess.py -> build\\lib.win-amd64-3.7\\PIL\n",
      "    copying PIL\\SgiImagePlugin.py -> build\\lib.win-amd64-3.7\\PIL\n",
      "    copying PIL\\SpiderImagePlugin.py -> build\\lib.win-amd64-3.7\\PIL\n",
      "    copying PIL\\SunImagePlugin.py -> build\\lib.win-amd64-3.7\\PIL\n",
      "    copying PIL\\TarIO.py -> build\\lib.win-amd64-3.7\\PIL\n",
      "    copying PIL\\TgaImagePlugin.py -> build\\lib.win-amd64-3.7\\PIL\n",
      "    copying PIL\\TiffImagePlugin.py -> build\\lib.win-amd64-3.7\\PIL\n",
      "    copying PIL\\TiffTags.py -> build\\lib.win-amd64-3.7\\PIL\n"
     ]
    },
    {
     "name": "stdout",
     "output_type": "stream",
     "text": [
      "    copying PIL\\WalImageFile.py -> build\\lib.win-amd64-3.7\\PIL\n",
      "    copying PIL\\WebPImagePlugin.py -> build\\lib.win-amd64-3.7\\PIL\n",
      "    copying PIL\\WmfImagePlugin.py -> build\\lib.win-amd64-3.7\\PIL\n",
      "    copying PIL\\XbmImagePlugin.py -> build\\lib.win-amd64-3.7\\PIL\n",
      "    copying PIL\\XpmImagePlugin.py -> build\\lib.win-amd64-3.7\\PIL\n",
      "    copying PIL\\XVThumbImagePlugin.py -> build\\lib.win-amd64-3.7\\PIL\n",
      "    copying PIL\\_binary.py -> build\\lib.win-amd64-3.7\\PIL\n",
      "    copying PIL\\_tkinter_finder.py -> build\\lib.win-amd64-3.7\\PIL\n",
      "    copying PIL\\_util.py -> build\\lib.win-amd64-3.7\\PIL\n",
      "    copying PIL\\__init__.py -> build\\lib.win-amd64-3.7\\PIL\n",
      "    running egg_info\n",
      "    writing Pillow.egg-info\\PKG-INFO\n",
      "    writing dependency_links to Pillow.egg-info\\dependency_links.txt\n",
      "    writing requirements to Pillow.egg-info\\requires.txt\n",
      "    writing top-level names to Pillow.egg-info\\top_level.txt\n",
      "    reading manifest file 'Pillow.egg-info\\SOURCES.txt'\n",
      "    reading manifest template 'MANIFEST.in'\n",
      "    warning: no files found matching '*.sh'\n",
      "    no previously-included directories found matching 'docs\\_static'\n",
      "    warning: no previously-included files found matching '.coveragerc'\n",
      "    warning: no previously-included files found matching '.editorconfig'\n",
      "    warning: no previously-included files found matching '.landscape.yaml'\n",
      "    warning: no previously-included files found matching 'appveyor.yml'\n",
      "    warning: no previously-included files found matching 'build_children.sh'\n",
      "    warning: no previously-included files found matching 'tox.ini'\n",
      "    warning: no previously-included files matching '.git*' found anywhere in distribution\n",
      "    warning: no previously-included files matching '*.pyc' found anywhere in distribution\n",
      "    warning: no previously-included files matching '*.so' found anywhere in distribution\n",
      "    writing manifest file 'Pillow.egg-info\\SOURCES.txt'\n",
      "    running build_ext\n",
      "    \n",
      "    \n",
      "    The headers or library files could not be found for zlib,\n",
      "    a required dependency when compiling Pillow from source.\n",
      "    \n",
      "    Please see the install instructions at:\n",
      "       http://pillow.readthedocs.io/en/latest/installation.html\n",
      "    \n",
      "    Traceback (most recent call last):\n",
      "      File \"C:\\Users\\Public\\Documents\\Wondershare\\CreatorTemp\\pip-install-44ux_jp6\\Pillow\\setup.py\", line 779, in <module>\n",
      "        zip_safe=not debug_build(), )\n",
      "      File \"C:\\Users\\Public\\Anaconda3\\lib\\site-packages\\setuptools\\__init__.py\", line 140, in setup\n",
      "        return distutils.core.setup(**attrs)\n",
      "      File \"C:\\Users\\Public\\Anaconda3\\lib\\distutils\\core.py\", line 148, in setup\n",
      "        dist.run_commands()\n",
      "      File \"C:\\Users\\Public\\Anaconda3\\lib\\distutils\\dist.py\", line 966, in run_commands\n",
      "        self.run_command(cmd)\n",
      "      File \"C:\\Users\\Public\\Anaconda3\\lib\\distutils\\dist.py\", line 985, in run_command\n",
      "        cmd_obj.run()\n",
      "      File \"C:\\Users\\Public\\Anaconda3\\lib\\site-packages\\setuptools\\command\\install.py\", line 61, in run\n",
      "        return orig.install.run(self)\n",
      "      File \"C:\\Users\\Public\\Anaconda3\\lib\\distutils\\command\\install.py\", line 545, in run\n",
      "        self.run_command('build')\n",
      "      File \"C:\\Users\\Public\\Anaconda3\\lib\\distutils\\cmd.py\", line 313, in run_command\n",
      "        self.distribution.run_command(command)\n",
      "      File \"C:\\Users\\Public\\Anaconda3\\lib\\distutils\\dist.py\", line 985, in run_command\n",
      "        cmd_obj.run()\n",
      "      File \"C:\\Users\\Public\\Anaconda3\\lib\\distutils\\command\\build.py\", line 135, in run\n",
      "        self.run_command(cmd_name)\n",
      "      File \"C:\\Users\\Public\\Anaconda3\\lib\\distutils\\cmd.py\", line 313, in run_command\n",
      "        self.distribution.run_command(command)\n",
      "      File \"C:\\Users\\Public\\Anaconda3\\lib\\distutils\\dist.py\", line 985, in run_command\n",
      "        cmd_obj.run()\n",
      "      File \"C:\\Users\\Public\\Anaconda3\\lib\\distutils\\command\\build_ext.py\", line 339, in run\n",
      "        self.build_extensions()\n",
      "      File \"C:\\Users\\Public\\Documents\\Wondershare\\CreatorTemp\\pip-install-44ux_jp6\\Pillow\\setup.py\", line 549, in build_extensions\n",
      "        raise RequiredDependencyException(f)\n",
      "    __main__.RequiredDependencyException: zlib\n",
      "    \n",
      "    During handling of the above exception, another exception occurred:\n",
      "    \n",
      "    Traceback (most recent call last):\n",
      "      File \"<string>\", line 1, in <module>\n",
      "      File \"C:\\Users\\Public\\Documents\\Wondershare\\CreatorTemp\\pip-install-44ux_jp6\\Pillow\\setup.py\", line 791, in <module>\n",
      "        raise RequiredDependencyException(msg)\n",
      "    __main__.RequiredDependencyException:\n",
      "    \n",
      "    The headers or library files could not be found for zlib,\n",
      "    a required dependency when compiling Pillow from source.\n",
      "    \n",
      "    Please see the install instructions at:\n",
      "       http://pillow.readthedocs.io/en/latest/installation.html\n",
      "    \n",
      "    \n",
      "    \n",
      "    ----------------------------------------\n",
      "  Rolling back uninstall of Pillow\n"
     ]
    },
    {
     "name": "stderr",
     "output_type": "stream",
     "text": [
      "  Failed building wheel for Pillow\n",
      "torchvision 0.2.1 has requirement pillow>=4.1.1, but you'll have pillow 4.0.0 which is incompatible.\n",
      "scikit-image 0.14.0 has requirement pillow>=4.3.0, but you'll have pillow 4.0.0 which is incompatible.\n",
      "Command \"C:\\Users\\Public\\Anaconda3\\python.exe -u -c \"import setuptools, tokenize;__file__='C:\\\\Users\\\\Public\\\\Documents\\\\Wondershare\\\\CreatorTemp\\\\pip-install-44ux_jp6\\\\Pillow\\\\setup.py';f=getattr(tokenize, 'open', open)(__file__);code=f.read().replace('\\r\\n', '\\n');f.close();exec(compile(code, __file__, 'exec'))\" install --record C:\\Users\\Public\\Documents\\Wondershare\\CreatorTemp\\pip-record-y4fuit31\\install-record.txt --single-version-externally-managed --compile\" failed with error code 1 in C:\\Users\\Public\\Documents\\Wondershare\\CreatorTemp\\pip-install-44ux_jp6\\Pillow\\\n"
     ]
    },
    {
     "name": "stdout",
     "output_type": "stream",
     "text": [
      "Collecting PIL\n"
     ]
    },
    {
     "name": "stderr",
     "output_type": "stream",
     "text": [
      "  Could not find a version that satisfies the requirement PIL (from versions: )\n",
      "No matching distribution found for PIL\n"
     ]
    },
    {
     "name": "stdout",
     "output_type": "stream",
     "text": [
      "Requirement already satisfied: image in c:\\users\\public\\anaconda3\\lib\\site-packages (1.5.27)\n",
      "Requirement already satisfied: django in c:\\users\\public\\anaconda3\\lib\\site-packages (from image) (2.1.5)\n",
      "Requirement already satisfied: pillow in c:\\users\\public\\anaconda3\\lib\\site-packages (from image) (5.4.1)\n",
      "Requirement already satisfied: pytz in c:\\users\\public\\anaconda3\\lib\\site-packages (from django->image) (2018.5)\n"
     ]
    },
    {
     "ename": "ModuleNotFoundError",
     "evalue": "No module named 'PIL'",
     "output_type": "error",
     "traceback": [
      "\u001b[1;31m---------------------------------------------------------------------------\u001b[0m",
      "\u001b[1;31mModuleNotFoundError\u001b[0m                       Traceback (most recent call last)",
      "\u001b[1;32m<ipython-input-15-24493e6166e5>\u001b[0m in \u001b[0;36m<module>\u001b[1;34m()\u001b[0m\n\u001b[0;32m      3\u001b[0m \u001b[0mget_ipython\u001b[0m\u001b[1;33m(\u001b[0m\u001b[1;33m)\u001b[0m\u001b[1;33m.\u001b[0m\u001b[0msystem\u001b[0m\u001b[1;33m(\u001b[0m\u001b[1;34m'pip install PIL'\u001b[0m\u001b[1;33m)\u001b[0m\u001b[1;33m\u001b[0m\u001b[0m\n\u001b[0;32m      4\u001b[0m \u001b[0mget_ipython\u001b[0m\u001b[1;33m(\u001b[0m\u001b[1;33m)\u001b[0m\u001b[1;33m.\u001b[0m\u001b[0msystem\u001b[0m\u001b[1;33m(\u001b[0m\u001b[1;34m'pip install image'\u001b[0m\u001b[1;33m)\u001b[0m\u001b[1;33m\u001b[0m\u001b[0m\n\u001b[1;32m----> 5\u001b[1;33m \u001b[1;32mimport\u001b[0m \u001b[0mPIL\u001b[0m\u001b[1;33m.\u001b[0m\u001b[0mImage\u001b[0m\u001b[1;33m\u001b[0m\u001b[0m\n\u001b[0m",
      "\u001b[1;31mModuleNotFoundError\u001b[0m: No module named 'PIL'"
     ]
    }
   ],
   "source": [
    "\n",
    "!pip install Pillow==4.0.0\n",
    "!pip install PIL\n",
    "!pip install image\n",
    "import PIL.Image"
   ]
  },
  {
   "cell_type": "code",
   "execution_count": null,
   "metadata": {
    "colab": {
     "base_uri": "https://localhost:8080/",
     "height": 35
    },
    "colab_type": "code",
    "id": "jbTT5nFS6n6b",
    "outputId": "ce8852cb-26b5-4aaf-a174-92f00fe6f4c6"
   },
   "outputs": [],
   "source": [
    "transform = transforms.Compose([\n",
    "    \n",
    "    transforms.ToTensor()\n",
    "])\n",
    "\n",
    "\n",
    "class prep_stuff:\n",
    "    def __init__(self, batch_size, path, n_valid, n_test):\n",
    "        self.batch_size = batch_size\n",
    "        self.path = path\n",
    "        self.n_test = n_test\n",
    "\n",
    "        batch_size_eval = 128\n",
    "        \n",
    "          \n",
    "        #self.train_data = datasets.ImageFolder(self.path, transform=transform )\n",
    "\n",
    "        self.train_data = datasets.DatasetFolder(self.path, np.load, '.npy' )\n",
    "        \n",
    "        #self.train_data = datasets.DatasetFolder(self.path, Image.open, ['.jpg', '.jpeg', '.png', '.ppm', '.bmp', '.pgm', '.tif'], transform=transform )\n",
    "\n",
    "        \n",
    "        indices = list(range(len(self.train_data)))\n",
    "        random.shuffle(indices)\n",
    "\n",
    "        # Split dataset into train and Test sets\n",
    "        self.train_loader = DataLoader(\n",
    "            self.train_data,\n",
    "            batch_size=self.batch_size,\n",
    "            sampler=SubsetRandomSampler(indices[:n_valid]),\n",
    "            num_workers=3,\n",
    "            pin_memory=use_cuda\n",
    "        )\n",
    "\n",
    "        # Split dataset into train and Test sets\n",
    "        self.valid_loader = DataLoader(\n",
    "            self.train_data,\n",
    "            batch_size=self.batch_size,\n",
    "            sampler=SubsetRandomSampler(indices[n_valid:(n_valid+n_test)]),\n",
    "            num_workers=3,\n",
    "            pin_memory=use_cuda\n",
    "        )\n",
    "        self.test_loader = DataLoader(\n",
    "            self.train_data,\n",
    "            batch_size=batch_size_eval,\n",
    "            sampler=SubsetRandomSampler(indices[(n_valid+n_test):]),\n",
    "            num_workers=3,\n",
    "            pin_memory=use_cuda\n",
    "        )\n",
    "        \n",
    "           \n",
    "\n",
    "\n",
    "# Create the object with both loader and loss functions\n",
    "sstart = time.time()\n",
    "\n",
    "batchSize = 16\n",
    "\n",
    "path = './trainset/'\n",
    "valid = 15000 \n",
    "test = 3000\n",
    "\n",
    "end = time.time()\n",
    "\n",
    "pre_model = prep_stuff(batchSize, path, valid, test)\n",
    "\n",
    "\n",
    "print('time to upload: ', end-sstart)"
   ]
  },
  {
   "cell_type": "code",
   "execution_count": 0,
   "metadata": {
    "colab": {
     "base_uri": "https://localhost:8080/",
     "height": 35
    },
    "colab_type": "code",
    "id": "WV7SQG37hUH9",
    "outputId": "da620a31-9d79-4f18-97f7-4e2f562efc9e"
   },
   "outputs": [
    {
     "name": "stdout",
     "output_type": "stream",
     "text": [
      "(3, 64, 64)\n"
     ]
    }
   ],
   "source": [
    "#Random check for tensor sizes\n",
    "rand = np.random.randint(1,9999)\n",
    "x = np.load('drive/My Drive/DL-assignment1/tensor_data/Cat/'+ str(rand) +'.npy')\n",
    "if(np.size(data,axis=0) == 3):\n",
    "\n",
    "  print(x.shape)"
   ]
  },
  {
   "cell_type": "code",
   "execution_count": 0,
   "metadata": {
    "colab": {
     "base_uri": "https://localhost:8080/",
     "height": 321
    },
    "colab_type": "code",
    "id": "hlioTnyGrdki",
    "outputId": "67d28f4d-fb02-4c73-fe9e-8ad8059dcfbd"
   },
   "outputs": [
    {
     "name": "stdout",
     "output_type": "stream",
     "text": [
      "This is the shape of one batch torch.Size([64, 3, 64, 64]). What is the meaning of each dimension?  batch size * channels * height * width\n",
      "target torch.Size([64])\n",
      "Time to compute:  38.842076778411865\n"
     ]
    },
    {
     "data": {
      "image/png": "[encoded data removed]",
      "text/plain": [
       "<Figure size 432x288 with 1 Axes>"
      ]
     },
     "metadata": {
      "tags": []
     },
     "output_type": "display_data"
    }
   ],
   "source": [
    "\n",
    "aaa=time.time()\n",
    "for inputs, targets in pre_model.train_loader:\n",
    "    print(f\"This is the shape of one batch {inputs.shape}. What is the meaning of each dimension?  batch size * channels * height * width\")\n",
    "    print(\"target\", targets.shape)\n",
    "    img = inputs[0,0]\n",
    "    \n",
    "    plt.imshow(img)\n",
    "    break\n",
    "    \n",
    "bbb = time.time()\n",
    "\n",
    "print('Time to compute: ' , bbb-aaa)"
   ]
  },
  {
   "cell_type": "code",
   "execution_count": 0,
   "metadata": {
    "colab": {},
    "colab_type": "code",
    "id": "DM0FSdYB6n80"
   },
   "outputs": [],
   "source": [
    "class CNN(nn.Module):\n",
    "    \n",
    "    def __init__(self):\n",
    "        super().__init__()\n",
    "        # conv block 1\n",
    "        self.conv1 = nn.Conv2d(3, 32, 3, padding=1)\n",
    "        self.conv2 = nn.Conv2d(32, 32, 3, padding=1)\n",
    "        \n",
    "        # conv block 2\n",
    "        self.conv3 = nn.Conv2d(32, 64, 3, padding=1)\n",
    "        self.conv4 = nn.Conv2d(64, 64, 3, padding=1)\n",
    "        \n",
    "        # conv block 3\n",
    "        self.conv5 = nn.Conv2d(64, 128, 3, padding=1)\n",
    "        self.conv6 = nn.Conv2d(128, 128, 3, padding=1)\n",
    "       \n",
    "        \n",
    "        # fully connected layers\n",
    "        self.fc1 = nn.Linear(32*32*32, 512)\n",
    "        self.fc2 = nn.Linear(512, 2)\n",
    "        \n",
    "       \n",
    "\n",
    "\n",
    "    def forward(self, x):\n",
    "        # x is [batch_size, channels, heigth, width] = [bs, 1, 64, 64]\n",
    "        x = F.relu((self.conv1(x)))\n",
    "        x = F.relu((self.conv2(x)))\n",
    "        x = F.max_pool2d(x, 2) # x is [bs, 32, 32, 32]\n",
    "        \n",
    "        #x = F.relu((self.conv3(x)))\n",
    "        #x = F.relu((self.conv4(x)))\n",
    "        #x = F.max_pool2d(x, 2) # x is [bs, 64, 16, 16]\n",
    "        \n",
    "        #x = F.relu((self.conv5(x)))\n",
    "        #x = F.relu((self.conv6(x)))\n",
    "        #x = F.max_pool2d(x, 2) # x is [bs, 64, 8, 8]\n",
    "        \n",
    "        \n",
    "        x = x.view(x.size(0), -1) # flatten\n",
    "        \n",
    "        x = F.relu((self.fc1(x)))\n",
    "        #x = self.fc2(x)\n",
    "        \n",
    "        return x\n",
    "   \n",
    "      #F.avg_pool2d\n",
    "      \n",
    "      "
   ]
  },
  {
   "cell_type": "markdown",
   "metadata": {
    "colab_type": "text",
    "id": "tSyeB_Hh9Oyx"
   },
   "source": [
    "### Training and validation loops"
   ]
  },
  {
   "cell_type": "code",
   "execution_count": 0,
   "metadata": {
    "colab": {},
    "colab_type": "code",
    "id": "lMrp_42D6n_D"
   },
   "outputs": [],
   "source": [
    "def train(model,train_loader, optimizer, epoch ):\n",
    "    \"\"\"Perform one epoch of training.\"\"\"\n",
    "    model.train()\n",
    "    \n",
    "    for batch_idx, (inputs, target) in enumerate(train_loader):\n",
    "      \n",
    "        inputs, target = inputs.to(device), target.to(device)\n",
    "        \n",
    "        optimizer.zero_grad()\n",
    "        output = model(inputs)\n",
    "        loss = loss_fn(output, target)\n",
    "        # Backprop\n",
    "        loss.backward()\n",
    "        optimizer.step()\n",
    "        ###\n",
    "        \n",
    "        if batch_idx % 1000 == 0:\n",
    "            print('Train Epoch: {} [{}/{} ({:.0f}%)]\\tLoss: {:.6f}'.format(\n",
    "                epoch, batch_idx * len(inputs), len(train_loader) *len(inputs) ,\n",
    "                100. * batch_idx / len(train_loader), loss.item()))"
   ]
  },
  {
   "cell_type": "code",
   "execution_count": 0,
   "metadata": {
    "colab": {},
    "colab_type": "code",
    "id": "OLtwMBaP6oBv"
   },
   "outputs": [],
   "source": [
    "def test(model, test_loader):\n",
    "    model.eval()\n",
    "    \n",
    "    test_loss = 0\n",
    "    correct = 0\n",
    "    test_size = 0\n",
    "    with torch.no_grad():\n",
    "        for inputs, target in test_loader:\n",
    "          \n",
    "            inputs, target = inputs.to(device), target.to(device)\n",
    "            \n",
    "            \n",
    "            output = model(inputs)\n",
    "            test_size += len(inputs)\n",
    "            test_loss += test_loss_fn(output, target).item() \n",
    "            pred = output.max(1, keepdim=True)[1] \n",
    "            correct += pred.eq(target.view_as(pred)).sum().item()\n",
    "\n",
    "    test_loss /= test_size\n",
    "    accuracy = correct / test_size\n",
    "    print('\\nValidation set: Average loss: {:.4f}, Accuracy: {}/{} ({:.0f}%)\\n'.format(\n",
    "        test_loss, correct, test_size,\n",
    "        100. * accuracy))\n",
    "    \n",
    "    return test_loss, accuracy"
   ]
  },
  {
   "cell_type": "code",
   "execution_count": 0,
   "metadata": {
    "colab": {},
    "colab_type": "code",
    "id": "9WOZCJM6-RB4"
   },
   "outputs": [],
   "source": [
    "######################################\n",
    "# See if model exists, if so, load is with all params\n",
    "directory = os.path.dirname('drive/My Drive/ds_hw2/trained_model')\n",
    "\n",
    "try:\n",
    "    os.stat(directory)\n",
    "    PATH = 'drive/My Drive/ds_hw2/trained_model/model.py'\n",
    "    model = torch.load(PATH)\n",
    "    model.eval()\n",
    "except:\n",
    "    os.mkdir(directory) \n",
    "    \n"
   ]
  },
  {
   "cell_type": "code",
   "execution_count": 0,
   "metadata": {
    "colab": {},
    "colab_type": "code",
    "id": "d5BN9Mj_E3iv"
   },
   "outputs": [],
   "source": []
  },
  {
   "cell_type": "code",
   "execution_count": 0,
   "metadata": {
    "colab": {
     "base_uri": "https://localhost:8080/",
     "height": 1252
    },
    "colab_type": "code",
    "id": "f-JB6yiz6oD_",
    "outputId": "3950243b-3b13-4682-b723-a0cb6f386565"
   },
   "outputs": [
    {
     "name": "stdout",
     "output_type": "stream",
     "text": [
      "Training beginning...\n",
      "Epoch  1 :\n",
      "Train Epoch: 1 [0/15040 (0%)]\tLoss: 6.238870\n"
     ]
    },
    {
     "ename": "KeyboardInterrupt",
     "evalue": "ignored",
     "output_type": "error",
     "traceback": [
      "\u001b[0;31m---------------------------------------------------------------------------\u001b[0m",
      "\u001b[0;31mKeyboardInterrupt\u001b[0m                         Traceback (most recent call last)",
      "\u001b[0;32m<ipython-input-25-6b8ab63617e0>\u001b[0m in \u001b[0;36m<module>\u001b[0;34m()\u001b[0m\n\u001b[1;32m     21\u001b[0m \u001b[0;32mfor\u001b[0m \u001b[0mepoch\u001b[0m \u001b[0;32min\u001b[0m \u001b[0mrange\u001b[0m\u001b[0;34m(\u001b[0m\u001b[0;36m1\u001b[0m\u001b[0;34m,\u001b[0m \u001b[0mnbr_epochs\u001b[0m\u001b[0;34m+\u001b[0m\u001b[0;36m1\u001b[0m\u001b[0;34m)\u001b[0m\u001b[0;34m:\u001b[0m\u001b[0;34m\u001b[0m\u001b[0;34m\u001b[0m\u001b[0m\n\u001b[1;32m     22\u001b[0m     \u001b[0mprint\u001b[0m\u001b[0;34m(\u001b[0m\u001b[0;34m'Epoch '\u001b[0m\u001b[0;34m,\u001b[0m \u001b[0mepoch\u001b[0m\u001b[0;34m,\u001b[0m \u001b[0;34m':'\u001b[0m\u001b[0;34m)\u001b[0m\u001b[0;34m\u001b[0m\u001b[0;34m\u001b[0m\u001b[0m\n\u001b[0;32m---> 23\u001b[0;31m     \u001b[0mtrain\u001b[0m\u001b[0;34m(\u001b[0m\u001b[0mmodel\u001b[0m\u001b[0;34m,\u001b[0m \u001b[0mpre_model\u001b[0m\u001b[0;34m.\u001b[0m\u001b[0mtrain_loader\u001b[0m\u001b[0;34m,\u001b[0m \u001b[0moptimizer\u001b[0m\u001b[0;34m,\u001b[0m \u001b[0mepoch\u001b[0m\u001b[0;34m)\u001b[0m\u001b[0;34m\u001b[0m\u001b[0;34m\u001b[0m\u001b[0m\n\u001b[0m\u001b[1;32m     24\u001b[0m     \u001b[0mloss\u001b[0m\u001b[0;34m,\u001b[0m \u001b[0macc\u001b[0m \u001b[0;34m=\u001b[0m \u001b[0mtest\u001b[0m\u001b[0;34m(\u001b[0m\u001b[0mmodel\u001b[0m\u001b[0;34m,\u001b[0m \u001b[0mpre_model\u001b[0m\u001b[0;34m.\u001b[0m\u001b[0mvalid_loader\u001b[0m\u001b[0;34m)\u001b[0m\u001b[0;34m\u001b[0m\u001b[0;34m\u001b[0m\u001b[0m\n\u001b[1;32m     25\u001b[0m \u001b[0;34m\u001b[0m\u001b[0m\n",
      "\u001b[0;32m<ipython-input-23-b35b07d59e28>\u001b[0m in \u001b[0;36mtrain\u001b[0;34m(model, train_loader, optimizer, epoch)\u001b[0m\n\u001b[1;32m      3\u001b[0m     \u001b[0mmodel\u001b[0m\u001b[0;34m.\u001b[0m\u001b[0mtrain\u001b[0m\u001b[0;34m(\u001b[0m\u001b[0;34m)\u001b[0m\u001b[0;34m\u001b[0m\u001b[0;34m\u001b[0m\u001b[0m\n\u001b[1;32m      4\u001b[0m \u001b[0;34m\u001b[0m\u001b[0m\n\u001b[0;32m----> 5\u001b[0;31m     \u001b[0;32mfor\u001b[0m \u001b[0mbatch_idx\u001b[0m\u001b[0;34m,\u001b[0m \u001b[0;34m(\u001b[0m\u001b[0minputs\u001b[0m\u001b[0;34m,\u001b[0m \u001b[0mtarget\u001b[0m\u001b[0;34m)\u001b[0m \u001b[0;32min\u001b[0m \u001b[0menumerate\u001b[0m\u001b[0;34m(\u001b[0m\u001b[0mtrain_loader\u001b[0m\u001b[0;34m)\u001b[0m\u001b[0;34m:\u001b[0m\u001b[0;34m\u001b[0m\u001b[0;34m\u001b[0m\u001b[0m\n\u001b[0m\u001b[1;32m      6\u001b[0m \u001b[0;34m\u001b[0m\u001b[0m\n\u001b[1;32m      7\u001b[0m         \u001b[0minputs\u001b[0m\u001b[0;34m,\u001b[0m \u001b[0mtarget\u001b[0m \u001b[0;34m=\u001b[0m \u001b[0minputs\u001b[0m\u001b[0;34m.\u001b[0m\u001b[0mto\u001b[0m\u001b[0;34m(\u001b[0m\u001b[0mdevice\u001b[0m\u001b[0;34m)\u001b[0m\u001b[0;34m,\u001b[0m \u001b[0mtarget\u001b[0m\u001b[0;34m.\u001b[0m\u001b[0mto\u001b[0m\u001b[0;34m(\u001b[0m\u001b[0mdevice\u001b[0m\u001b[0;34m)\u001b[0m\u001b[0;34m\u001b[0m\u001b[0;34m\u001b[0m\u001b[0m\n",
      "\u001b[0;32m/usr/local/lib/python3.6/dist-packages/torch/utils/data/dataloader.py\u001b[0m in \u001b[0;36m__next__\u001b[0;34m(self)\u001b[0m\n\u001b[1;32m    328\u001b[0m         \u001b[0;32mwhile\u001b[0m \u001b[0;32mTrue\u001b[0m\u001b[0;34m:\u001b[0m\u001b[0;34m\u001b[0m\u001b[0;34m\u001b[0m\u001b[0m\n\u001b[1;32m    329\u001b[0m             \u001b[0;32massert\u001b[0m \u001b[0;34m(\u001b[0m\u001b[0;32mnot\u001b[0m \u001b[0mself\u001b[0m\u001b[0;34m.\u001b[0m\u001b[0mshutdown\u001b[0m \u001b[0;32mand\u001b[0m \u001b[0mself\u001b[0m\u001b[0;34m.\u001b[0m\u001b[0mbatches_outstanding\u001b[0m \u001b[0;34m>\u001b[0m \u001b[0;36m0\u001b[0m\u001b[0;34m)\u001b[0m\u001b[0;34m\u001b[0m\u001b[0;34m\u001b[0m\u001b[0m\n\u001b[0;32m--> 330\u001b[0;31m             \u001b[0midx\u001b[0m\u001b[0;34m,\u001b[0m \u001b[0mbatch\u001b[0m \u001b[0;34m=\u001b[0m \u001b[0mself\u001b[0m\u001b[0;34m.\u001b[0m\u001b[0m_get_batch\u001b[0m\u001b[0;34m(\u001b[0m\u001b[0;34m)\u001b[0m\u001b[0;34m\u001b[0m\u001b[0;34m\u001b[0m\u001b[0m\n\u001b[0m\u001b[1;32m    331\u001b[0m             \u001b[0mself\u001b[0m\u001b[0;34m.\u001b[0m\u001b[0mbatches_outstanding\u001b[0m \u001b[0;34m-=\u001b[0m \u001b[0;36m1\u001b[0m\u001b[0;34m\u001b[0m\u001b[0;34m\u001b[0m\u001b[0m\n\u001b[1;32m    332\u001b[0m             \u001b[0;32mif\u001b[0m \u001b[0midx\u001b[0m \u001b[0;34m!=\u001b[0m \u001b[0mself\u001b[0m\u001b[0;34m.\u001b[0m\u001b[0mrcvd_idx\u001b[0m\u001b[0;34m:\u001b[0m\u001b[0;34m\u001b[0m\u001b[0;34m\u001b[0m\u001b[0m\n",
      "\u001b[0;32m/usr/local/lib/python3.6/dist-packages/torch/utils/data/dataloader.py\u001b[0m in \u001b[0;36m_get_batch\u001b[0;34m(self)\u001b[0m\n\u001b[1;32m    307\u001b[0m                 \u001b[0;32mraise\u001b[0m \u001b[0mRuntimeError\u001b[0m\u001b[0;34m(\u001b[0m\u001b[0;34m'DataLoader timed out after {} seconds'\u001b[0m\u001b[0;34m.\u001b[0m\u001b[0mformat\u001b[0m\u001b[0;34m(\u001b[0m\u001b[0mself\u001b[0m\u001b[0;34m.\u001b[0m\u001b[0mtimeout\u001b[0m\u001b[0;34m)\u001b[0m\u001b[0;34m)\u001b[0m\u001b[0;34m\u001b[0m\u001b[0;34m\u001b[0m\u001b[0m\n\u001b[1;32m    308\u001b[0m         \u001b[0;32melse\u001b[0m\u001b[0;34m:\u001b[0m\u001b[0;34m\u001b[0m\u001b[0;34m\u001b[0m\u001b[0m\n\u001b[0;32m--> 309\u001b[0;31m             \u001b[0;32mreturn\u001b[0m \u001b[0mself\u001b[0m\u001b[0;34m.\u001b[0m\u001b[0mdata_queue\u001b[0m\u001b[0;34m.\u001b[0m\u001b[0mget\u001b[0m\u001b[0;34m(\u001b[0m\u001b[0;34m)\u001b[0m\u001b[0;34m\u001b[0m\u001b[0;34m\u001b[0m\u001b[0m\n\u001b[0m\u001b[1;32m    310\u001b[0m \u001b[0;34m\u001b[0m\u001b[0m\n\u001b[1;32m    311\u001b[0m     \u001b[0;32mdef\u001b[0m \u001b[0m__next__\u001b[0m\u001b[0;34m(\u001b[0m\u001b[0mself\u001b[0m\u001b[0;34m)\u001b[0m\u001b[0;34m:\u001b[0m\u001b[0;34m\u001b[0m\u001b[0;34m\u001b[0m\u001b[0m\n",
      "\u001b[0;32m/usr/lib/python3.6/queue.py\u001b[0m in \u001b[0;36mget\u001b[0;34m(self, block, timeout)\u001b[0m\n\u001b[1;32m    162\u001b[0m             \u001b[0;32melif\u001b[0m \u001b[0mtimeout\u001b[0m \u001b[0;32mis\u001b[0m \u001b[0;32mNone\u001b[0m\u001b[0;34m:\u001b[0m\u001b[0;34m\u001b[0m\u001b[0;34m\u001b[0m\u001b[0m\n\u001b[1;32m    163\u001b[0m                 \u001b[0;32mwhile\u001b[0m \u001b[0;32mnot\u001b[0m \u001b[0mself\u001b[0m\u001b[0;34m.\u001b[0m\u001b[0m_qsize\u001b[0m\u001b[0;34m(\u001b[0m\u001b[0;34m)\u001b[0m\u001b[0;34m:\u001b[0m\u001b[0;34m\u001b[0m\u001b[0;34m\u001b[0m\u001b[0m\n\u001b[0;32m--> 164\u001b[0;31m                     \u001b[0mself\u001b[0m\u001b[0;34m.\u001b[0m\u001b[0mnot_empty\u001b[0m\u001b[0;34m.\u001b[0m\u001b[0mwait\u001b[0m\u001b[0;34m(\u001b[0m\u001b[0;34m)\u001b[0m\u001b[0;34m\u001b[0m\u001b[0;34m\u001b[0m\u001b[0m\n\u001b[0m\u001b[1;32m    165\u001b[0m             \u001b[0;32melif\u001b[0m \u001b[0mtimeout\u001b[0m \u001b[0;34m<\u001b[0m \u001b[0;36m0\u001b[0m\u001b[0;34m:\u001b[0m\u001b[0;34m\u001b[0m\u001b[0;34m\u001b[0m\u001b[0m\n\u001b[1;32m    166\u001b[0m                 \u001b[0;32mraise\u001b[0m \u001b[0mValueError\u001b[0m\u001b[0;34m(\u001b[0m\u001b[0;34m\"'timeout' must be a non-negative number\"\u001b[0m\u001b[0;34m)\u001b[0m\u001b[0;34m\u001b[0m\u001b[0;34m\u001b[0m\u001b[0m\n",
      "\u001b[0;32m/usr/lib/python3.6/threading.py\u001b[0m in \u001b[0;36mwait\u001b[0;34m(self, timeout)\u001b[0m\n\u001b[1;32m    293\u001b[0m         \u001b[0;32mtry\u001b[0m\u001b[0;34m:\u001b[0m    \u001b[0;31m# restore state no matter what (e.g., KeyboardInterrupt)\u001b[0m\u001b[0;34m\u001b[0m\u001b[0;34m\u001b[0m\u001b[0m\n\u001b[1;32m    294\u001b[0m             \u001b[0;32mif\u001b[0m \u001b[0mtimeout\u001b[0m \u001b[0;32mis\u001b[0m \u001b[0;32mNone\u001b[0m\u001b[0;34m:\u001b[0m\u001b[0;34m\u001b[0m\u001b[0;34m\u001b[0m\u001b[0m\n\u001b[0;32m--> 295\u001b[0;31m                 \u001b[0mwaiter\u001b[0m\u001b[0;34m.\u001b[0m\u001b[0macquire\u001b[0m\u001b[0;34m(\u001b[0m\u001b[0;34m)\u001b[0m\u001b[0;34m\u001b[0m\u001b[0;34m\u001b[0m\u001b[0m\n\u001b[0m\u001b[1;32m    296\u001b[0m                 \u001b[0mgotit\u001b[0m \u001b[0;34m=\u001b[0m \u001b[0;32mTrue\u001b[0m\u001b[0;34m\u001b[0m\u001b[0;34m\u001b[0m\u001b[0m\n\u001b[1;32m    297\u001b[0m             \u001b[0;32melse\u001b[0m\u001b[0;34m:\u001b[0m\u001b[0;34m\u001b[0m\u001b[0;34m\u001b[0m\u001b[0m\n",
      "\u001b[0;31mKeyboardInterrupt\u001b[0m: "
     ]
    },
    {
     "name": "stderr",
     "output_type": "stream",
     "text": [
      "Process Process-24:\n",
      "Traceback (most recent call last):\n",
      "  File \"/usr/lib/python3.6/multiprocessing/process.py\", line 258, in _bootstrap\n",
      "    self.run()\n",
      "  File \"/usr/lib/python3.6/multiprocessing/process.py\", line 93, in run\n",
      "    self._target(*self._args, **self._kwargs)\n",
      "  File \"/usr/local/lib/python3.6/dist-packages/torch/utils/data/dataloader.py\", line 106, in _worker_loop\n",
      "    samples = collate_fn([dataset[i] for i in batch_indices])\n",
      "  File \"/usr/local/lib/python3.6/dist-packages/torch/utils/data/dataloader.py\", line 106, in <listcomp>\n",
      "    samples = collate_fn([dataset[i] for i in batch_indices])\n",
      "  File \"/usr/local/lib/python3.6/dist-packages/torchvision/datasets/folder.py\", line 101, in __getitem__\n",
      "    sample = self.loader(path)\n",
      "  File \"/usr/local/lib/python3.6/dist-packages/torchvision/datasets/folder.py\", line 147, in default_loader\n",
      "    return pil_loader(path)\n",
      "  File \"/usr/local/lib/python3.6/dist-packages/torchvision/datasets/folder.py\", line 129, in pil_loader\n",
      "    img = Image.open(f)\n",
      "  File \"/usr/local/lib/python3.6/dist-packages/PIL/Image.py\", line 2319, in open\n",
      "    prefix = fp.read(16)\n",
      "KeyboardInterrupt\n"
     ]
    }
   ],
   "source": [
    "\n",
    "model = CNN().to(device)\n",
    "test_accuracy = []\n",
    "train_loss = []\n",
    "nbr_epochs = 3\n",
    "\n",
    "lr = 0.0005 # \n",
    "\n",
    "\n",
    "\n",
    "# Surrogate loss used for training\n",
    "loss_fn = nn.CrossEntropyLoss()\n",
    "test_loss_fn = nn.CrossEntropyLoss(reduction='sum')\n",
    "\n",
    "\n",
    "optimizer = optim.SGD(model.parameters(), lr=lr)\n",
    "\n",
    "\n",
    "print('Training beginning...')\n",
    "start_time = time.time()\n",
    "for epoch in range(1, nbr_epochs+1):\n",
    "    print('Epoch ', epoch, ':')\n",
    "    train(model, pre_model.train_loader, optimizer, epoch)\n",
    "    loss, acc = test(model, pre_model.valid_loader)\n",
    "    \n",
    "    # save results every epoch\n",
    "    test_accuracy.append(acc)\n",
    "    train_loss.append(loss)\n",
    "\n",
    "end_time = time.time()\n",
    "print('Training on ' + str(nbr_epochs) + ' epochs done in ', str(end_time-start_time),' seconds')\n"
   ]
  },
  {
   "cell_type": "code",
   "execution_count": 0,
   "metadata": {
    "colab": {},
    "colab_type": "code",
    "id": "MCCks5tl648i"
   },
   "outputs": [],
   "source": [
    "# Accuracy\n",
    "xvalues= np.arange(0,nbr_epochs,1)\n",
    "plt.plot(xvalues, test_accuracy)\n",
    "\n",
    "print('With lr=',lr,', weight decay = ',weight_decay, ', Batch size of ', batchSize ,' and ')"
   ]
  },
  {
   "cell_type": "code",
   "execution_count": 0,
   "metadata": {
    "colab": {
     "base_uri": "https://localhost:8080/",
     "height": 283
    },
    "colab_type": "code",
    "id": "IuhfsyBS65BZ",
    "outputId": "7f3c9183-2521-43b2-bb7d-52e1f98c242c"
   },
   "outputs": [
    {
     "data": {
      "text/plain": [
       "[<matplotlib.lines.Line2D at 0x7f9b4c9a90f0>]"
      ]
     },
     "execution_count": 59,
     "metadata": {
      "tags": []
     },
     "output_type": "execute_result"
    },
    {
     "data": {
      "image/png": "[encoded data removed]",
      "text/plain": [
       "<matplotlib.figure.Figure at 0x7f9b4d32d780>"
      ]
     },
     "metadata": {
      "tags": []
     },
     "output_type": "display_data"
    }
   ],
   "source": [
    "#error\n",
    "plt.plot(xvalues, train_loss)"
   ]
  },
  {
   "cell_type": "code",
   "execution_count": 0,
   "metadata": {
    "colab": {},
    "colab_type": "code",
    "id": "OlHK8e6Q65GE"
   },
   "outputs": [],
   "source": []
  },
  {
   "cell_type": "markdown",
   "metadata": {
    "colab_type": "text",
    "id": "CaMEzkek9S1-"
   },
   "source": [
    "### Predict Unseen data"
   ]
  },
  {
   "cell_type": "code",
   "execution_count": 0,
   "metadata": {
    "colab": {
     "base_uri": "https://localhost:8080/",
     "height": 106
    },
    "colab_type": "code",
    "id": "uVCh0oGt65JO",
    "outputId": "4a2eec8a-c967-4a7c-eb23-f7dacb1b4348"
   },
   "outputs": [
    {
     "name": "stdout",
     "output_type": "stream",
     "text": [
      "\n",
      "Validation set: Average loss: 0.0879, Accuracy: 2960/3000 (99%)\n",
      "\n",
      "Loss on test set:  0.08794047657648722\n",
      "Accuracy on Test set:  0.9866666666666667\n"
     ]
    }
   ],
   "source": [
    "loss, acc = test(model, pre_model.test_loader)\n",
    "print('Loss on test set: ' , loss)\n",
    "print('Accuracy on Test set: ' , acc)"
   ]
  },
  {
   "cell_type": "code",
   "execution_count": 0,
   "metadata": {
    "colab": {
     "base_uri": "https://localhost:8080/",
     "height": 72
    },
    "colab_type": "code",
    "id": "nXr9TxXs65L-",
    "outputId": "1cb6e255-c32a-4ccc-e598-8c2afefd7297"
   },
   "outputs": [
    {
     "name": "stderr",
     "output_type": "stream",
     "text": [
      "/usr/local/lib/python3.6/dist-packages/torch/serialization.py:241: UserWarning: Couldn't retrieve source code for container of type CNN. It won't be checked for correctness upon loading.\n",
      "  \"type \" + obj.__name__ + \". It won't be checked \"\n"
     ]
    }
   ],
   "source": [
    "###########################################\n",
    "# Save model\n",
    "directory = os.path.dirname('drive/My Drive/ds_hw2/trained_model/')\n",
    "PATH = 'drive/My Drive/ds_hw2/trained_model/model.py'\n",
    "try:\n",
    "    os.stat(directory)\n",
    "except:\n",
    "    os.mkdir(directory) \n",
    "torch.save(model, PATH)"
   ]
  },
  {
   "cell_type": "markdown",
   "metadata": {
    "colab_type": "text",
    "id": "nnQsHnP_9WhI"
   },
   "source": [
    "### Predict labels on new Data"
   ]
  },
  {
   "cell_type": "code",
   "execution_count": 0,
   "metadata": {
    "colab": {
     "base_uri": "https://localhost:8080/",
     "height": 35
    },
    "colab_type": "code",
    "id": "-64tV-qq65Pe",
    "outputId": "6a39a9b6-431f-4fbe-c2dc-ac953d0893f9"
   },
   "outputs": [
    {
     "name": "stdout",
     "output_type": "stream",
     "text": [
      "torch.Size([8000, 1, 28, 28])\n"
     ]
    }
   ],
   "source": [
    "# Images to be tested\n",
    "path = 'drive/My Drive/DL-assignment1/test/'\n",
    "\n",
    "data_to_eval = np.genfromtxt(path)\n",
    "\n",
    "images_to_pred = data_to_eval.reshape(4999, 3, 64, 64)\n",
    "\n",
    "images_to_pred = torch.from_numpy(images_to_pred)\n",
    "print(images_to_pred.shape)"
   ]
  },
  {
   "cell_type": "code",
   "execution_count": 0,
   "metadata": {
    "colab": {
     "base_uri": "https://localhost:8080/",
     "height": 35
    },
    "colab_type": "code",
    "id": "SSKDxr3I65EJ",
    "outputId": "acfc29ee-9a90-4e29-c17c-4e21a8cb001e"
   },
   "outputs": [
    {
     "name": "stdout",
     "output_type": "stream",
     "text": [
      "Time to predict  8000  examples:  16.196799516677856\n"
     ]
    }
   ],
   "source": [
    "predictions = []\n",
    "model.eval()\n",
    "time_1 = time.time()\n",
    "for x in range(images_to_pred.shape[0]):\n",
    "    y = images_to_pred[x,:]\n",
    "    #print(y.shape)\n",
    "    y = y.float().to(device)\n",
    "    f = torch.unsqueeze(y, 0)  # To add fake batch size: Unsqueeze adds '1' at index unsqueeze(index)\n",
    "    #print(f.shape)\n",
    "    #z = f.repeat([1, 3, 1, 1])  # To add two more channels (iff model trained on 3)\n",
    "    #print('now', z.shape)\n",
    "    \n",
    "    pred = model(f)\n",
    "    \n",
    "    # will save the class as named when trained\n",
    "    z = pred.max(1, keepdim=True)[1] \n",
    "    predictions.append(z)\n",
    "    \n",
    "time_2 = time.time()\n",
    "print('Time to predict ', images_to_pred.shape[0],' examples: ', (time_2-time_1))"
   ]
  },
  {
   "cell_type": "code",
   "execution_count": 0,
   "metadata": {
    "colab": {},
    "colab_type": "code",
    "id": "-ZZFlJ9DH0OI"
   },
   "outputs": [],
   "source": []
  },
  {
   "cell_type": "code",
   "execution_count": 0,
   "metadata": {
    "colab": {},
    "colab_type": "code",
    "id": "Ra7PW3xs64_e"
   },
   "outputs": [],
   "source": []
  },
  {
   "cell_type": "markdown",
   "metadata": {
    "colab_type": "text",
    "id": "bFfb9QXV9nPt"
   },
   "source": [
    "### Routine to export predictions to CSV file"
   ]
  },
  {
   "cell_type": "code",
   "execution_count": 0,
   "metadata": {
    "colab": {},
    "colab_type": "code",
    "id": "t35vINpm6oGP"
   },
   "outputs": [],
   "source": [
    "### Save result to CSV file\n",
    "\n",
    "#* https://stackabuse.com/reading-and-writing-csv-files-in-python/\n",
    "#* csv.writer(csvfile, dialect='excel', **fmtparams)\n",
    "\n",
    "import csv\n",
    "\n",
    "directory2 = os.path.dirname('./drive/My Drive/ds_hw2/preds/')\n",
    "\n",
    "try:\n",
    "    os.stat(directory2)\n",
    "except:\n",
    "    os.mkdir(directory2)  \n"
   ]
  },
  {
   "cell_type": "code",
   "execution_count": 0,
   "metadata": {
    "colab": {},
    "colab_type": "code",
    "id": "CsDImEnLJtP9"
   },
   "outputs": [],
   "source": []
  },
  {
   "cell_type": "code",
   "execution_count": 0,
   "metadata": {
    "colab": {},
    "colab_type": "code",
    "id": "-4uGV2WO6oJM"
   },
   "outputs": [],
   "source": [
    "\n",
    "\n",
    "myFile = open('./drive/My Drive/DL-assignment1/preds/preds_1.csv', 'w') \n",
    "\n",
    "with myFile:  \n",
    "    myFields = ['id', 'label']\n",
    "    writer = csv.DictWriter(myFile, fieldnames=myFields)    \n",
    "    writer.writeheader()\n",
    "    \n",
    "    for x in range(len(predictions)):\n",
    "      value = predictions[x].item()\n",
    "      writer.writerow({'id':x+1, 'label': value})\n",
    "      "
   ]
  },
  {
   "cell_type": "code",
   "execution_count": 0,
   "metadata": {
    "colab": {},
    "colab_type": "code",
    "id": "_dqC9iWlI2lr"
   },
   "outputs": [],
   "source": []
  }
 ],
 "metadata": {
  "accelerator": "GPU",
  "colab": {
   "collapsed_sections": [
    "B3szDszS9ELn",
    "Lrd1tvIHQBsb",
    "fbAd0momizPG"
   ],
   "name": "DL-assigment1",
   "provenance": [],
   "version": "0.3.2"
  },
  "kernelspec": {
   "display_name": "Python 3",
   "language": "python",
   "name": "python3"
  },
  "language_info": {
   "codemirror_mode": {
    "name": "ipython",
    "version": 3
   },
   "file_extension": ".py",
   "mimetype": "text/x-python",
   "name": "python",
   "nbconvert_exporter": "python",
   "pygments_lexer": "ipython3",
   "version": "3.7.0"
  }
 },
 "nbformat": 4,
 "nbformat_minor": 1
}
